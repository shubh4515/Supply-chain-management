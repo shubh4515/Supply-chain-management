{
 "cells": [
  {
   "cell_type": "code",
   "execution_count": 1,
   "id": "8694a096",
   "metadata": {},
   "outputs": [],
   "source": [
    "import pandas as pd\n",
    "import numpy as np\n",
    "from scipy.stats import pearsonr "
   ]
  },
  {
   "cell_type": "code",
   "execution_count": 2,
   "id": "ec86807e",
   "metadata": {},
   "outputs": [],
   "source": [
    "data = pd.read_excel(r\"C:\\Users\\Shubham Dandak\\Downloads\\Supplychain train dataset.xlsx\")"
   ]
  },
  {
   "cell_type": "code",
   "execution_count": 3,
   "id": "75306328",
   "metadata": {},
   "outputs": [
    {
     "name": "stdout",
     "output_type": "stream",
     "text": [
      "<class 'pandas.core.frame.DataFrame'>\n",
      "RangeIndex: 22150 entries, 0 to 22149\n",
      "Data columns (total 24 columns):\n",
      " #   Column                        Non-Null Count  Dtype  \n",
      "---  ------                        --------------  -----  \n",
      " 0   Ware_house_ID                 22150 non-null  object \n",
      " 1   WH_Manager_ID                 22150 non-null  object \n",
      " 2   Location_type                 22150 non-null  object \n",
      " 3   WH_capacity_size              22150 non-null  object \n",
      " 4   zone                          22150 non-null  object \n",
      " 5   WH_regional_zone              22150 non-null  object \n",
      " 6   num_refill_req_l3m            22150 non-null  int64  \n",
      " 7   transport_issue_l1y           22150 non-null  int64  \n",
      " 8   Competitor_in_mkt             22150 non-null  int64  \n",
      " 9   retail_shop_num               22150 non-null  int64  \n",
      " 10  wh_owner_type                 22150 non-null  object \n",
      " 11  distributor_num               22150 non-null  int64  \n",
      " 12  flood_impacted                22150 non-null  int64  \n",
      " 13  flood_proof                   22150 non-null  int64  \n",
      " 14  electric_supply               22150 non-null  int64  \n",
      " 15  dist_from_hub                 22150 non-null  int64  \n",
      " 16  workers_num                   21273 non-null  float64\n",
      " 17  wh_est_year                   11605 non-null  float64\n",
      " 18  storage_issue_reported_l3m    22150 non-null  int64  \n",
      " 19  temp_reg_mach                 22150 non-null  int64  \n",
      " 20  approved_wh_govt_certificate  21345 non-null  object \n",
      " 21  wh_breakdown_l3m              22150 non-null  int64  \n",
      " 22  govt_check_l3m                22150 non-null  int64  \n",
      " 23  product_wg_ton                22150 non-null  int64  \n",
      "dtypes: float64(2), int64(14), object(8)\n",
      "memory usage: 4.1+ MB\n"
     ]
    }
   ],
   "source": [
    "data.info()"
   ]
  },
  {
   "cell_type": "code",
   "execution_count": 4,
   "id": "a5928f2f",
   "metadata": {},
   "outputs": [],
   "source": [
    "from sklearn.preprocessing import LabelEncoder\n",
    "le = LabelEncoder()"
   ]
  },
  {
   "cell_type": "code",
   "execution_count": 5,
   "id": "94c483f1",
   "metadata": {},
   "outputs": [],
   "source": [
    "data['Location_type'] = le.fit_transform(data['Location_type'])"
   ]
  },
  {
   "cell_type": "code",
   "execution_count": 6,
   "id": "77b6e08b",
   "metadata": {},
   "outputs": [],
   "source": [
    "data['WH_capacity_size'] = le.fit_transform(data['WH_capacity_size'])"
   ]
  },
  {
   "cell_type": "code",
   "execution_count": 7,
   "id": "046536eb",
   "metadata": {},
   "outputs": [],
   "source": [
    "data['zone'] = le.fit_transform(data['zone'])"
   ]
  },
  {
   "cell_type": "code",
   "execution_count": 8,
   "id": "c3e73f4b",
   "metadata": {},
   "outputs": [],
   "source": [
    "data['WH_regional_zone'] = le.fit_transform(data['WH_regional_zone'])"
   ]
  },
  {
   "cell_type": "code",
   "execution_count": 9,
   "id": "c99a82fc",
   "metadata": {},
   "outputs": [],
   "source": [
    "data['wh_owner_type'] = le.fit_transform(data['wh_owner_type'])"
   ]
  },
  {
   "cell_type": "code",
   "execution_count": 10,
   "id": "6fa74e40",
   "metadata": {},
   "outputs": [],
   "source": [
    "data['wh_owner_type'] = le.fit_transform(data['wh_owner_type'])"
   ]
  },
  {
   "cell_type": "code",
   "execution_count": 11,
   "id": "c55551ec",
   "metadata": {},
   "outputs": [],
   "source": [
    "data['approved_wh_govt_certificate'] = le.fit_transform(data['approved_wh_govt_certificate'])"
   ]
  },
  {
   "cell_type": "code",
   "execution_count": 12,
   "id": "502bc27a",
   "metadata": {},
   "outputs": [
    {
     "name": "stdout",
     "output_type": "stream",
     "text": [
      "<class 'pandas.core.frame.DataFrame'>\n",
      "RangeIndex: 22150 entries, 0 to 22149\n",
      "Data columns (total 24 columns):\n",
      " #   Column                        Non-Null Count  Dtype  \n",
      "---  ------                        --------------  -----  \n",
      " 0   Ware_house_ID                 22150 non-null  object \n",
      " 1   WH_Manager_ID                 22150 non-null  object \n",
      " 2   Location_type                 22150 non-null  int32  \n",
      " 3   WH_capacity_size              22150 non-null  int32  \n",
      " 4   zone                          22150 non-null  int32  \n",
      " 5   WH_regional_zone              22150 non-null  int32  \n",
      " 6   num_refill_req_l3m            22150 non-null  int64  \n",
      " 7   transport_issue_l1y           22150 non-null  int64  \n",
      " 8   Competitor_in_mkt             22150 non-null  int64  \n",
      " 9   retail_shop_num               22150 non-null  int64  \n",
      " 10  wh_owner_type                 22150 non-null  int64  \n",
      " 11  distributor_num               22150 non-null  int64  \n",
      " 12  flood_impacted                22150 non-null  int64  \n",
      " 13  flood_proof                   22150 non-null  int64  \n",
      " 14  electric_supply               22150 non-null  int64  \n",
      " 15  dist_from_hub                 22150 non-null  int64  \n",
      " 16  workers_num                   21273 non-null  float64\n",
      " 17  wh_est_year                   11605 non-null  float64\n",
      " 18  storage_issue_reported_l3m    22150 non-null  int64  \n",
      " 19  temp_reg_mach                 22150 non-null  int64  \n",
      " 20  approved_wh_govt_certificate  22150 non-null  int32  \n",
      " 21  wh_breakdown_l3m              22150 non-null  int64  \n",
      " 22  govt_check_l3m                22150 non-null  int64  \n",
      " 23  product_wg_ton                22150 non-null  int64  \n",
      "dtypes: float64(2), int32(5), int64(15), object(2)\n",
      "memory usage: 3.6+ MB\n"
     ]
    }
   ],
   "source": [
    "data.info()"
   ]
  },
  {
   "cell_type": "code",
   "execution_count": 14,
   "id": "0549275e",
   "metadata": {},
   "outputs": [
    {
     "name": "stdout",
     "output_type": "stream",
     "text": [
      "Stats = 0.07415828201627415 and p value is 2.1562766876026297e-28\n",
      "product weight tonne is dependent on Location_type\n"
     ]
    }
   ],
   "source": [
    "stat, p = pearsonr(data['Location_type'],data['product_wg_ton'])\n",
    "print('Stats = {} and p value is {}'.format(stat,p))\n",
    "if p>0.05:\n",
    "    print('product weight tonne is independent from Location_type')\n",
    "else:\n",
    "    print('product weight tonne is dependent on Location_type')"
   ]
  },
  {
   "cell_type": "code",
   "execution_count": 15,
   "id": "41dac493",
   "metadata": {},
   "outputs": [
    {
     "name": "stdout",
     "output_type": "stream",
     "text": [
      "Stats = -0.0029668568424028657 and p value is 0.6588295798901679\n",
      "product weight tonne is independent from Location_type\n"
     ]
    }
   ],
   "source": [
    "stat, p = pearsonr(data['WH_capacity_size'],data['product_wg_ton'])\n",
    "print('Stats = {} and p value is {}'.format(stat,p))\n",
    "if p>0.05:\n",
    "    print('product weight tonne is independent from Location_type')\n",
    "else:\n",
    "    print('product weight tonne is dependent on Location_type')"
   ]
  },
  {
   "cell_type": "code",
   "execution_count": 16,
   "id": "bffb7bba",
   "metadata": {},
   "outputs": [
    {
     "name": "stdout",
     "output_type": "stream",
     "text": [
      "Stats = -0.008899579662161847 and p value is 0.18534869653541236\n",
      "product weight tonne is independent from Location_type\n"
     ]
    }
   ],
   "source": [
    "stat, p = pearsonr(data['zone'],data['product_wg_ton'])\n",
    "print('Stats = {} and p value is {}'.format(stat,p))\n",
    "if p>0.05:\n",
    "    print('product weight tonne is independent from Location_type')\n",
    "else:\n",
    "    print('product weight tonne is dependent on Location_type')"
   ]
  },
  {
   "cell_type": "code",
   "execution_count": 17,
   "id": "0c348bd5",
   "metadata": {},
   "outputs": [
    {
     "name": "stdout",
     "output_type": "stream",
     "text": [
      "Stats = 8.599371543347584e-05 and p value is 0.9897892586175275\n",
      "product weight tonne is independent from Location_type\n"
     ]
    }
   ],
   "source": [
    "stat, p = pearsonr(data['WH_regional_zone'],data['product_wg_ton'])\n",
    "print('Stats = {} and p value is {}'.format(stat,p))\n",
    "if p>0.05:\n",
    "    print('product weight tonne is independent from Location_type')\n",
    "else:\n",
    "    print('product weight tonne is dependent on Location_type')"
   ]
  },
  {
   "cell_type": "code",
   "execution_count": 18,
   "id": "f194735b",
   "metadata": {},
   "outputs": [
    {
     "name": "stdout",
     "output_type": "stream",
     "text": [
      "Stats = 0.0006757738058120872 and p value is 0.9198926749298368\n",
      "product weight tonne is independent from Location_type\n"
     ]
    }
   ],
   "source": [
    "stat, p = pearsonr(data['num_refill_req_l3m'],data['product_wg_ton'])\n",
    "print('Stats = {} and p value is {}'.format(stat,p))\n",
    "if p>0.05:\n",
    "    print('product weight tonne is independent from Location_type')\n",
    "else:\n",
    "    print('product weight tonne is dependent on Location_type')"
   ]
  },
  {
   "cell_type": "code",
   "execution_count": 19,
   "id": "68c36624",
   "metadata": {},
   "outputs": [
    {
     "name": "stdout",
     "output_type": "stream",
     "text": [
      "Stats = -0.1757460027001448 and p value is 3.9426614757023443e-153\n",
      "product weight tonne is dependent on Location_type\n"
     ]
    }
   ],
   "source": [
    "stat, p = pearsonr(data['transport_issue_l1y'],data['product_wg_ton'])\n",
    "print('Stats = {} and p value is {}'.format(stat,p))\n",
    "if p>0.05:\n",
    "    print('product weight tonne is independent from Location_type')\n",
    "else:\n",
    "    print('product weight tonne is dependent on Location_type')"
   ]
  },
  {
   "cell_type": "code",
   "execution_count": 20,
   "id": "a702cff6",
   "metadata": {},
   "outputs": [
    {
     "name": "stdout",
     "output_type": "stream",
     "text": [
      "Stats = 0.00728200403527571 and p value is 0.2784868184128177\n",
      "product weight tonne is independent from Location_type\n"
     ]
    }
   ],
   "source": [
    "stat, p = pearsonr(data['Competitor_in_mkt'],data['product_wg_ton'])\n",
    "print('Stats = {} and p value is {}'.format(stat,p))\n",
    "if p>0.05:\n",
    "    print('product weight tonne is independent from Location_type')\n",
    "else:\n",
    "    print('product weight tonne is dependent on Location_type')"
   ]
  },
  {
   "cell_type": "code",
   "execution_count": 21,
   "id": "a974d81f",
   "metadata": {},
   "outputs": [
    {
     "name": "stdout",
     "output_type": "stream",
     "text": [
      "Stats = -0.006785298435100314 and p value is 0.3125900710561325\n",
      "product weight tonne is independent from Location_type\n"
     ]
    }
   ],
   "source": [
    "stat, p = pearsonr(data['retail_shop_num'],data['product_wg_ton'])\n",
    "print('Stats = {} and p value is {}'.format(stat,p))\n",
    "if p>0.05:\n",
    "    print('product weight tonne is independent from Location_type')\n",
    "else:\n",
    "    print('product weight tonne is dependent on Location_type')"
   ]
  },
  {
   "cell_type": "code",
   "execution_count": 22,
   "id": "4ba83f44",
   "metadata": {},
   "outputs": [
    {
     "name": "stdout",
     "output_type": "stream",
     "text": [
      "Stats = 0.003412204077873336 and p value is 0.6115887545073966\n",
      "product weight tonne is independent from Location_type\n"
     ]
    }
   ],
   "source": [
    "stat, p = pearsonr(data['wh_owner_type'],data['product_wg_ton'])\n",
    "print('Stats = {} and p value is {}'.format(stat,p))\n",
    "if p>0.05:\n",
    "    print('product weight tonne is independent from Location_type')\n",
    "else:\n",
    "    print('product weight tonne is dependent on Location_type')"
   ]
  },
  {
   "cell_type": "code",
   "execution_count": 23,
   "id": "b5fab4e6",
   "metadata": {},
   "outputs": [
    {
     "name": "stdout",
     "output_type": "stream",
     "text": [
      "Stats = 0.005142895181674207 and p value is 0.4440497152204103\n",
      "product weight tonne is independent from Location_type\n"
     ]
    }
   ],
   "source": [
    "stat, p = pearsonr(data['distributor_num'],data['product_wg_ton'])\n",
    "print('Stats = {} and p value is {}'.format(stat,p))\n",
    "if p>0.05:\n",
    "    print('product weight tonne is independent from Location_type')\n",
    "else:\n",
    "    print('product weight tonne is dependent on Location_type')"
   ]
  },
  {
   "cell_type": "code",
   "execution_count": 24,
   "id": "273e7b31",
   "metadata": {},
   "outputs": [
    {
     "name": "stdout",
     "output_type": "stream",
     "text": [
      "Stats = -0.00505528832615786 and p value is 0.4518498395140295\n",
      "product weight tonne is independent from Location_type\n"
     ]
    }
   ],
   "source": [
    "stat, p = pearsonr(data['flood_impacted'],data['product_wg_ton'])\n",
    "print('Stats = {} and p value is {}'.format(stat,p))\n",
    "if p>0.05:\n",
    "    print('product weight tonne is independent from Location_type')\n",
    "else:\n",
    "    print('product weight tonne is dependent on Location_type')"
   ]
  },
  {
   "cell_type": "code",
   "execution_count": 25,
   "id": "eada62db",
   "metadata": {},
   "outputs": [
    {
     "name": "stdout",
     "output_type": "stream",
     "text": [
      "Stats = -0.003566854275099028 and p value is 0.5955419730909218\n",
      "product weight tonne is independent from Location_type\n"
     ]
    }
   ],
   "source": [
    "stat, p = pearsonr(data['flood_proof'],data['product_wg_ton'])\n",
    "print('Stats = {} and p value is {}'.format(stat,p))\n",
    "if p>0.05:\n",
    "    print('product weight tonne is independent from Location_type')\n",
    "else:\n",
    "    print('product weight tonne is dependent on Location_type')"
   ]
  },
  {
   "cell_type": "code",
   "execution_count": 26,
   "id": "026c523d",
   "metadata": {},
   "outputs": [
    {
     "name": "stdout",
     "output_type": "stream",
     "text": [
      "Stats = -0.0007254989361473295 and p value is 0.9140202604892228\n",
      "product weight tonne is independent from Location_type\n"
     ]
    }
   ],
   "source": [
    "stat, p = pearsonr(data['electric_supply'],data['product_wg_ton'])\n",
    "print('Stats = {} and p value is {}'.format(stat,p))\n",
    "if p>0.05:\n",
    "    print('product weight tonne is independent from Location_type')\n",
    "else:\n",
    "    print('product weight tonne is dependent on Location_type')"
   ]
  },
  {
   "cell_type": "code",
   "execution_count": 27,
   "id": "baaac252",
   "metadata": {},
   "outputs": [
    {
     "name": "stdout",
     "output_type": "stream",
     "text": [
      "Stats = -0.006040010872175413 and p value is 0.368714025054693\n",
      "product weight tonne is independent from Location_type\n"
     ]
    }
   ],
   "source": [
    "stat, p = pearsonr(data['dist_from_hub'],data['product_wg_ton'])\n",
    "print('Stats = {} and p value is {}'.format(stat,p))\n",
    "if p>0.05:\n",
    "    print('product weight tonne is independent from Location_type')\n",
    "else:\n",
    "    print('product weight tonne is dependent on Location_type')"
   ]
  },
  {
   "cell_type": "code",
   "execution_count": 28,
   "id": "fd353d1f",
   "metadata": {},
   "outputs": [
    {
     "ename": "ValueError",
     "evalue": "array must not contain infs or NaNs",
     "output_type": "error",
     "traceback": [
      "\u001b[1;31m---------------------------------------------------------------------------\u001b[0m",
      "\u001b[1;31mValueError\u001b[0m                                Traceback (most recent call last)",
      "Input \u001b[1;32mIn [28]\u001b[0m, in \u001b[0;36m<cell line: 1>\u001b[1;34m()\u001b[0m\n\u001b[1;32m----> 1\u001b[0m stat, p \u001b[38;5;241m=\u001b[39m \u001b[43mpearsonr\u001b[49m\u001b[43m(\u001b[49m\u001b[43mdata\u001b[49m\u001b[43m[\u001b[49m\u001b[38;5;124;43m'\u001b[39;49m\u001b[38;5;124;43mworkers_num\u001b[39;49m\u001b[38;5;124;43m'\u001b[39;49m\u001b[43m]\u001b[49m\u001b[43m,\u001b[49m\u001b[43mdata\u001b[49m\u001b[43m[\u001b[49m\u001b[38;5;124;43m'\u001b[39;49m\u001b[38;5;124;43mproduct_wg_ton\u001b[39;49m\u001b[38;5;124;43m'\u001b[39;49m\u001b[43m]\u001b[49m\u001b[43m)\u001b[49m\n\u001b[0;32m      2\u001b[0m \u001b[38;5;28mprint\u001b[39m(\u001b[38;5;124m'\u001b[39m\u001b[38;5;124mStats = \u001b[39m\u001b[38;5;132;01m{}\u001b[39;00m\u001b[38;5;124m and p value is \u001b[39m\u001b[38;5;132;01m{}\u001b[39;00m\u001b[38;5;124m'\u001b[39m\u001b[38;5;241m.\u001b[39mformat(stat,p))\n\u001b[0;32m      3\u001b[0m \u001b[38;5;28;01mif\u001b[39;00m p\u001b[38;5;241m>\u001b[39m\u001b[38;5;241m0.05\u001b[39m:\n",
      "File \u001b[1;32m~\\anaconda3\\lib\\site-packages\\scipy\\stats\\stats.py:4045\u001b[0m, in \u001b[0;36mpearsonr\u001b[1;34m(x, y)\u001b[0m\n\u001b[0;32m   4040\u001b[0m ym \u001b[38;5;241m=\u001b[39m y\u001b[38;5;241m.\u001b[39mastype(dtype) \u001b[38;5;241m-\u001b[39m ymean\n\u001b[0;32m   4042\u001b[0m \u001b[38;5;66;03m# Unlike np.linalg.norm or the expression sqrt((xm*xm).sum()),\u001b[39;00m\n\u001b[0;32m   4043\u001b[0m \u001b[38;5;66;03m# scipy.linalg.norm(xm) does not overflow if xm is, for example,\u001b[39;00m\n\u001b[0;32m   4044\u001b[0m \u001b[38;5;66;03m# [-5e210, 5e210, 3e200, -3e200]\u001b[39;00m\n\u001b[1;32m-> 4045\u001b[0m normxm \u001b[38;5;241m=\u001b[39m \u001b[43mlinalg\u001b[49m\u001b[38;5;241;43m.\u001b[39;49m\u001b[43mnorm\u001b[49m\u001b[43m(\u001b[49m\u001b[43mxm\u001b[49m\u001b[43m)\u001b[49m\n\u001b[0;32m   4046\u001b[0m normym \u001b[38;5;241m=\u001b[39m linalg\u001b[38;5;241m.\u001b[39mnorm(ym)\n\u001b[0;32m   4048\u001b[0m threshold \u001b[38;5;241m=\u001b[39m \u001b[38;5;241m1e-13\u001b[39m\n",
      "File \u001b[1;32m~\\anaconda3\\lib\\site-packages\\scipy\\linalg\\misc.py:145\u001b[0m, in \u001b[0;36mnorm\u001b[1;34m(a, ord, axis, keepdims, check_finite)\u001b[0m\n\u001b[0;32m    143\u001b[0m \u001b[38;5;66;03m# Differs from numpy only in non-finite handling and the use of blas.\u001b[39;00m\n\u001b[0;32m    144\u001b[0m \u001b[38;5;28;01mif\u001b[39;00m check_finite:\n\u001b[1;32m--> 145\u001b[0m     a \u001b[38;5;241m=\u001b[39m \u001b[43mnp\u001b[49m\u001b[38;5;241;43m.\u001b[39;49m\u001b[43masarray_chkfinite\u001b[49m\u001b[43m(\u001b[49m\u001b[43ma\u001b[49m\u001b[43m)\u001b[49m\n\u001b[0;32m    146\u001b[0m \u001b[38;5;28;01melse\u001b[39;00m:\n\u001b[0;32m    147\u001b[0m     a \u001b[38;5;241m=\u001b[39m np\u001b[38;5;241m.\u001b[39masarray(a)\n",
      "File \u001b[1;32m~\\anaconda3\\lib\\site-packages\\numpy\\lib\\function_base.py:488\u001b[0m, in \u001b[0;36masarray_chkfinite\u001b[1;34m(a, dtype, order)\u001b[0m\n\u001b[0;32m    486\u001b[0m a \u001b[38;5;241m=\u001b[39m asarray(a, dtype\u001b[38;5;241m=\u001b[39mdtype, order\u001b[38;5;241m=\u001b[39morder)\n\u001b[0;32m    487\u001b[0m \u001b[38;5;28;01mif\u001b[39;00m a\u001b[38;5;241m.\u001b[39mdtype\u001b[38;5;241m.\u001b[39mchar \u001b[38;5;129;01min\u001b[39;00m typecodes[\u001b[38;5;124m'\u001b[39m\u001b[38;5;124mAllFloat\u001b[39m\u001b[38;5;124m'\u001b[39m] \u001b[38;5;129;01mand\u001b[39;00m \u001b[38;5;129;01mnot\u001b[39;00m np\u001b[38;5;241m.\u001b[39misfinite(a)\u001b[38;5;241m.\u001b[39mall():\n\u001b[1;32m--> 488\u001b[0m     \u001b[38;5;28;01mraise\u001b[39;00m \u001b[38;5;167;01mValueError\u001b[39;00m(\n\u001b[0;32m    489\u001b[0m         \u001b[38;5;124m\"\u001b[39m\u001b[38;5;124marray must not contain infs or NaNs\u001b[39m\u001b[38;5;124m\"\u001b[39m)\n\u001b[0;32m    490\u001b[0m \u001b[38;5;28;01mreturn\u001b[39;00m a\n",
      "\u001b[1;31mValueError\u001b[0m: array must not contain infs or NaNs"
     ]
    }
   ],
   "source": [
    "stat, p = pearsonr(data['workers_num'],data['product_wg_ton'])\n",
    "print('Stats = {} and p value is {}'.format(stat,p))\n",
    "if p>0.05:\n",
    "    print('product weight tonne is independent from Location_type')\n",
    "else:\n",
    "    print('product weight tonne is dependent on Location_type')"
   ]
  },
  {
   "cell_type": "code",
   "execution_count": 34,
   "id": "088dd80c",
   "metadata": {},
   "outputs": [
    {
     "data": {
      "text/html": [
       "<div>\n",
       "<style scoped>\n",
       "    .dataframe tbody tr th:only-of-type {\n",
       "        vertical-align: middle;\n",
       "    }\n",
       "\n",
       "    .dataframe tbody tr th {\n",
       "        vertical-align: top;\n",
       "    }\n",
       "\n",
       "    .dataframe thead th {\n",
       "        text-align: right;\n",
       "    }\n",
       "</style>\n",
       "<table border=\"1\" class=\"dataframe\">\n",
       "  <thead>\n",
       "    <tr style=\"text-align: right;\">\n",
       "      <th></th>\n",
       "      <th>Ware_house_ID</th>\n",
       "      <th>WH_Manager_ID</th>\n",
       "      <th>Location_type</th>\n",
       "      <th>WH_capacity_size</th>\n",
       "      <th>zone</th>\n",
       "      <th>WH_regional_zone</th>\n",
       "      <th>num_refill_req_l3m</th>\n",
       "      <th>transport_issue_l1y</th>\n",
       "      <th>Competitor_in_mkt</th>\n",
       "      <th>retail_shop_num</th>\n",
       "      <th>...</th>\n",
       "      <th>electric_supply</th>\n",
       "      <th>dist_from_hub</th>\n",
       "      <th>workers_num</th>\n",
       "      <th>wh_est_year</th>\n",
       "      <th>storage_issue_reported_l3m</th>\n",
       "      <th>temp_reg_mach</th>\n",
       "      <th>approved_wh_govt_certificate</th>\n",
       "      <th>wh_breakdown_l3m</th>\n",
       "      <th>govt_check_l3m</th>\n",
       "      <th>product_wg_ton</th>\n",
       "    </tr>\n",
       "  </thead>\n",
       "  <tbody>\n",
       "    <tr>\n",
       "      <th>1</th>\n",
       "      <td>WH_100001</td>\n",
       "      <td>EID_50001</td>\n",
       "      <td>0</td>\n",
       "      <td>0</td>\n",
       "      <td>1</td>\n",
       "      <td>4</td>\n",
       "      <td>0</td>\n",
       "      <td>0</td>\n",
       "      <td>4</td>\n",
       "      <td>6217</td>\n",
       "      <td>...</td>\n",
       "      <td>1</td>\n",
       "      <td>210</td>\n",
       "      <td>31.0</td>\n",
       "      <td>NaN</td>\n",
       "      <td>4</td>\n",
       "      <td>0</td>\n",
       "      <td>0</td>\n",
       "      <td>3</td>\n",
       "      <td>17</td>\n",
       "      <td>5074</td>\n",
       "    </tr>\n",
       "    <tr>\n",
       "      <th>2</th>\n",
       "      <td>WH_100002</td>\n",
       "      <td>EID_50002</td>\n",
       "      <td>0</td>\n",
       "      <td>1</td>\n",
       "      <td>2</td>\n",
       "      <td>1</td>\n",
       "      <td>1</td>\n",
       "      <td>0</td>\n",
       "      <td>4</td>\n",
       "      <td>4306</td>\n",
       "      <td>...</td>\n",
       "      <td>0</td>\n",
       "      <td>161</td>\n",
       "      <td>37.0</td>\n",
       "      <td>NaN</td>\n",
       "      <td>17</td>\n",
       "      <td>0</td>\n",
       "      <td>0</td>\n",
       "      <td>6</td>\n",
       "      <td>22</td>\n",
       "      <td>23137</td>\n",
       "    </tr>\n",
       "    <tr>\n",
       "      <th>3</th>\n",
       "      <td>WH_100003</td>\n",
       "      <td>EID_50003</td>\n",
       "      <td>0</td>\n",
       "      <td>1</td>\n",
       "      <td>1</td>\n",
       "      <td>2</td>\n",
       "      <td>7</td>\n",
       "      <td>4</td>\n",
       "      <td>2</td>\n",
       "      <td>6000</td>\n",
       "      <td>...</td>\n",
       "      <td>0</td>\n",
       "      <td>103</td>\n",
       "      <td>21.0</td>\n",
       "      <td>NaN</td>\n",
       "      <td>17</td>\n",
       "      <td>1</td>\n",
       "      <td>1</td>\n",
       "      <td>3</td>\n",
       "      <td>27</td>\n",
       "      <td>22115</td>\n",
       "    </tr>\n",
       "    <tr>\n",
       "      <th>4</th>\n",
       "      <td>WH_100004</td>\n",
       "      <td>EID_50004</td>\n",
       "      <td>0</td>\n",
       "      <td>0</td>\n",
       "      <td>1</td>\n",
       "      <td>4</td>\n",
       "      <td>3</td>\n",
       "      <td>1</td>\n",
       "      <td>2</td>\n",
       "      <td>4740</td>\n",
       "      <td>...</td>\n",
       "      <td>1</td>\n",
       "      <td>112</td>\n",
       "      <td>25.0</td>\n",
       "      <td>2009.0</td>\n",
       "      <td>18</td>\n",
       "      <td>0</td>\n",
       "      <td>4</td>\n",
       "      <td>6</td>\n",
       "      <td>24</td>\n",
       "      <td>24071</td>\n",
       "    </tr>\n",
       "    <tr>\n",
       "      <th>5</th>\n",
       "      <td>WH_100005</td>\n",
       "      <td>EID_50005</td>\n",
       "      <td>0</td>\n",
       "      <td>2</td>\n",
       "      <td>3</td>\n",
       "      <td>0</td>\n",
       "      <td>8</td>\n",
       "      <td>0</td>\n",
       "      <td>2</td>\n",
       "      <td>5053</td>\n",
       "      <td>...</td>\n",
       "      <td>1</td>\n",
       "      <td>152</td>\n",
       "      <td>35.0</td>\n",
       "      <td>2009.0</td>\n",
       "      <td>23</td>\n",
       "      <td>1</td>\n",
       "      <td>1</td>\n",
       "      <td>3</td>\n",
       "      <td>3</td>\n",
       "      <td>32134</td>\n",
       "    </tr>\n",
       "    <tr>\n",
       "      <th>6</th>\n",
       "      <td>WH_100006</td>\n",
       "      <td>EID_50006</td>\n",
       "      <td>0</td>\n",
       "      <td>0</td>\n",
       "      <td>3</td>\n",
       "      <td>5</td>\n",
       "      <td>8</td>\n",
       "      <td>0</td>\n",
       "      <td>4</td>\n",
       "      <td>4449</td>\n",
       "      <td>...</td>\n",
       "      <td>1</td>\n",
       "      <td>77</td>\n",
       "      <td>27.0</td>\n",
       "      <td>2010.0</td>\n",
       "      <td>24</td>\n",
       "      <td>0</td>\n",
       "      <td>2</td>\n",
       "      <td>3</td>\n",
       "      <td>6</td>\n",
       "      <td>30142</td>\n",
       "    </tr>\n",
       "    <tr>\n",
       "      <th>7</th>\n",
       "      <td>WH_100007</td>\n",
       "      <td>EID_50007</td>\n",
       "      <td>0</td>\n",
       "      <td>0</td>\n",
       "      <td>1</td>\n",
       "      <td>4</td>\n",
       "      <td>1</td>\n",
       "      <td>0</td>\n",
       "      <td>4</td>\n",
       "      <td>7183</td>\n",
       "      <td>...</td>\n",
       "      <td>0</td>\n",
       "      <td>241</td>\n",
       "      <td>23.0</td>\n",
       "      <td>NaN</td>\n",
       "      <td>18</td>\n",
       "      <td>0</td>\n",
       "      <td>4</td>\n",
       "      <td>6</td>\n",
       "      <td>24</td>\n",
       "      <td>24093</td>\n",
       "    </tr>\n",
       "    <tr>\n",
       "      <th>8</th>\n",
       "      <td>WH_100008</td>\n",
       "      <td>EID_50008</td>\n",
       "      <td>0</td>\n",
       "      <td>2</td>\n",
       "      <td>2</td>\n",
       "      <td>5</td>\n",
       "      <td>8</td>\n",
       "      <td>1</td>\n",
       "      <td>4</td>\n",
       "      <td>5381</td>\n",
       "      <td>...</td>\n",
       "      <td>1</td>\n",
       "      <td>124</td>\n",
       "      <td>22.0</td>\n",
       "      <td>2013.0</td>\n",
       "      <td>13</td>\n",
       "      <td>1</td>\n",
       "      <td>1</td>\n",
       "      <td>5</td>\n",
       "      <td>2</td>\n",
       "      <td>18082</td>\n",
       "    </tr>\n",
       "    <tr>\n",
       "      <th>9</th>\n",
       "      <td>WH_100009</td>\n",
       "      <td>EID_50009</td>\n",
       "      <td>0</td>\n",
       "      <td>2</td>\n",
       "      <td>2</td>\n",
       "      <td>5</td>\n",
       "      <td>4</td>\n",
       "      <td>3</td>\n",
       "      <td>3</td>\n",
       "      <td>3869</td>\n",
       "      <td>...</td>\n",
       "      <td>0</td>\n",
       "      <td>78</td>\n",
       "      <td>43.0</td>\n",
       "      <td>NaN</td>\n",
       "      <td>6</td>\n",
       "      <td>0</td>\n",
       "      <td>4</td>\n",
       "      <td>6</td>\n",
       "      <td>2</td>\n",
       "      <td>7130</td>\n",
       "    </tr>\n",
       "    <tr>\n",
       "      <th>10</th>\n",
       "      <td>WH_100010</td>\n",
       "      <td>EID_50010</td>\n",
       "      <td>0</td>\n",
       "      <td>0</td>\n",
       "      <td>1</td>\n",
       "      <td>5</td>\n",
       "      <td>7</td>\n",
       "      <td>1</td>\n",
       "      <td>3</td>\n",
       "      <td>4623</td>\n",
       "      <td>...</td>\n",
       "      <td>1</td>\n",
       "      <td>150</td>\n",
       "      <td>37.0</td>\n",
       "      <td>1999.0</td>\n",
       "      <td>17</td>\n",
       "      <td>0</td>\n",
       "      <td>3</td>\n",
       "      <td>4</td>\n",
       "      <td>6</td>\n",
       "      <td>21125</td>\n",
       "    </tr>\n",
       "    <tr>\n",
       "      <th>11</th>\n",
       "      <td>WH_100011</td>\n",
       "      <td>EID_50011</td>\n",
       "      <td>0</td>\n",
       "      <td>0</td>\n",
       "      <td>1</td>\n",
       "      <td>5</td>\n",
       "      <td>7</td>\n",
       "      <td>0</td>\n",
       "      <td>5</td>\n",
       "      <td>4627</td>\n",
       "      <td>...</td>\n",
       "      <td>0</td>\n",
       "      <td>225</td>\n",
       "      <td>16.0</td>\n",
       "      <td>2017.0</td>\n",
       "      <td>11</td>\n",
       "      <td>0</td>\n",
       "      <td>2</td>\n",
       "      <td>2</td>\n",
       "      <td>28</td>\n",
       "      <td>14115</td>\n",
       "    </tr>\n",
       "    <tr>\n",
       "      <th>12</th>\n",
       "      <td>WH_100012</td>\n",
       "      <td>EID_50012</td>\n",
       "      <td>1</td>\n",
       "      <td>1</td>\n",
       "      <td>1</td>\n",
       "      <td>1</td>\n",
       "      <td>4</td>\n",
       "      <td>0</td>\n",
       "      <td>3</td>\n",
       "      <td>5012</td>\n",
       "      <td>...</td>\n",
       "      <td>0</td>\n",
       "      <td>95</td>\n",
       "      <td>28.0</td>\n",
       "      <td>2022.0</td>\n",
       "      <td>4</td>\n",
       "      <td>0</td>\n",
       "      <td>3</td>\n",
       "      <td>1</td>\n",
       "      <td>1</td>\n",
       "      <td>5124</td>\n",
       "    </tr>\n",
       "    <tr>\n",
       "      <th>13</th>\n",
       "      <td>WH_100013</td>\n",
       "      <td>EID_50013</td>\n",
       "      <td>0</td>\n",
       "      <td>1</td>\n",
       "      <td>2</td>\n",
       "      <td>3</td>\n",
       "      <td>6</td>\n",
       "      <td>1</td>\n",
       "      <td>2</td>\n",
       "      <td>6858</td>\n",
       "      <td>...</td>\n",
       "      <td>1</td>\n",
       "      <td>242</td>\n",
       "      <td>36.0</td>\n",
       "      <td>2008.0</td>\n",
       "      <td>22</td>\n",
       "      <td>1</td>\n",
       "      <td>0</td>\n",
       "      <td>5</td>\n",
       "      <td>11</td>\n",
       "      <td>30063</td>\n",
       "    </tr>\n",
       "    <tr>\n",
       "      <th>14</th>\n",
       "      <td>WH_100014</td>\n",
       "      <td>EID_50014</td>\n",
       "      <td>0</td>\n",
       "      <td>2</td>\n",
       "      <td>3</td>\n",
       "      <td>5</td>\n",
       "      <td>8</td>\n",
       "      <td>1</td>\n",
       "      <td>4</td>\n",
       "      <td>5022</td>\n",
       "      <td>...</td>\n",
       "      <td>1</td>\n",
       "      <td>129</td>\n",
       "      <td>37.0</td>\n",
       "      <td>NaN</td>\n",
       "      <td>6</td>\n",
       "      <td>0</td>\n",
       "      <td>2</td>\n",
       "      <td>3</td>\n",
       "      <td>9</td>\n",
       "      <td>7055</td>\n",
       "    </tr>\n",
       "    <tr>\n",
       "      <th>15</th>\n",
       "      <td>WH_100015</td>\n",
       "      <td>EID_50015</td>\n",
       "      <td>0</td>\n",
       "      <td>1</td>\n",
       "      <td>1</td>\n",
       "      <td>1</td>\n",
       "      <td>1</td>\n",
       "      <td>1</td>\n",
       "      <td>3</td>\n",
       "      <td>5062</td>\n",
       "      <td>...</td>\n",
       "      <td>1</td>\n",
       "      <td>190</td>\n",
       "      <td>19.0</td>\n",
       "      <td>NaN</td>\n",
       "      <td>4</td>\n",
       "      <td>0</td>\n",
       "      <td>3</td>\n",
       "      <td>3</td>\n",
       "      <td>12</td>\n",
       "      <td>5094</td>\n",
       "    </tr>\n",
       "    <tr>\n",
       "      <th>16</th>\n",
       "      <td>WH_100016</td>\n",
       "      <td>EID_50016</td>\n",
       "      <td>0</td>\n",
       "      <td>1</td>\n",
       "      <td>3</td>\n",
       "      <td>3</td>\n",
       "      <td>0</td>\n",
       "      <td>0</td>\n",
       "      <td>2</td>\n",
       "      <td>5569</td>\n",
       "      <td>...</td>\n",
       "      <td>1</td>\n",
       "      <td>231</td>\n",
       "      <td>28.0</td>\n",
       "      <td>NaN</td>\n",
       "      <td>9</td>\n",
       "      <td>0</td>\n",
       "      <td>3</td>\n",
       "      <td>5</td>\n",
       "      <td>11</td>\n",
       "      <td>12127</td>\n",
       "    </tr>\n",
       "    <tr>\n",
       "      <th>17</th>\n",
       "      <td>WH_100017</td>\n",
       "      <td>EID_50017</td>\n",
       "      <td>0</td>\n",
       "      <td>1</td>\n",
       "      <td>3</td>\n",
       "      <td>1</td>\n",
       "      <td>0</td>\n",
       "      <td>1</td>\n",
       "      <td>2</td>\n",
       "      <td>5539</td>\n",
       "      <td>...</td>\n",
       "      <td>1</td>\n",
       "      <td>261</td>\n",
       "      <td>22.0</td>\n",
       "      <td>NaN</td>\n",
       "      <td>13</td>\n",
       "      <td>0</td>\n",
       "      <td>0</td>\n",
       "      <td>4</td>\n",
       "      <td>12</td>\n",
       "      <td>17134</td>\n",
       "    </tr>\n",
       "    <tr>\n",
       "      <th>18</th>\n",
       "      <td>WH_100018</td>\n",
       "      <td>EID_50018</td>\n",
       "      <td>0</td>\n",
       "      <td>1</td>\n",
       "      <td>1</td>\n",
       "      <td>2</td>\n",
       "      <td>4</td>\n",
       "      <td>1</td>\n",
       "      <td>4</td>\n",
       "      <td>4598</td>\n",
       "      <td>...</td>\n",
       "      <td>1</td>\n",
       "      <td>159</td>\n",
       "      <td>22.0</td>\n",
       "      <td>2001.0</td>\n",
       "      <td>29</td>\n",
       "      <td>1</td>\n",
       "      <td>1</td>\n",
       "      <td>5</td>\n",
       "      <td>27</td>\n",
       "      <td>38082</td>\n",
       "    </tr>\n",
       "    <tr>\n",
       "      <th>19</th>\n",
       "      <td>WH_100019</td>\n",
       "      <td>EID_50019</td>\n",
       "      <td>0</td>\n",
       "      <td>2</td>\n",
       "      <td>2</td>\n",
       "      <td>0</td>\n",
       "      <td>1</td>\n",
       "      <td>1</td>\n",
       "      <td>2</td>\n",
       "      <td>5679</td>\n",
       "      <td>...</td>\n",
       "      <td>1</td>\n",
       "      <td>189</td>\n",
       "      <td>24.0</td>\n",
       "      <td>NaN</td>\n",
       "      <td>22</td>\n",
       "      <td>0</td>\n",
       "      <td>2</td>\n",
       "      <td>2</td>\n",
       "      <td>21</td>\n",
       "      <td>27100</td>\n",
       "    </tr>\n",
       "    <tr>\n",
       "      <th>20</th>\n",
       "      <td>WH_100020</td>\n",
       "      <td>EID_50020</td>\n",
       "      <td>0</td>\n",
       "      <td>1</td>\n",
       "      <td>2</td>\n",
       "      <td>1</td>\n",
       "      <td>8</td>\n",
       "      <td>0</td>\n",
       "      <td>2</td>\n",
       "      <td>5678</td>\n",
       "      <td>...</td>\n",
       "      <td>1</td>\n",
       "      <td>65</td>\n",
       "      <td>41.0</td>\n",
       "      <td>2016.0</td>\n",
       "      <td>19</td>\n",
       "      <td>0</td>\n",
       "      <td>3</td>\n",
       "      <td>4</td>\n",
       "      <td>1</td>\n",
       "      <td>24062</td>\n",
       "    </tr>\n",
       "    <tr>\n",
       "      <th>21</th>\n",
       "      <td>WH_100021</td>\n",
       "      <td>EID_50021</td>\n",
       "      <td>0</td>\n",
       "      <td>1</td>\n",
       "      <td>2</td>\n",
       "      <td>2</td>\n",
       "      <td>6</td>\n",
       "      <td>0</td>\n",
       "      <td>2</td>\n",
       "      <td>3980</td>\n",
       "      <td>...</td>\n",
       "      <td>1</td>\n",
       "      <td>156</td>\n",
       "      <td>31.0</td>\n",
       "      <td>2010.0</td>\n",
       "      <td>14</td>\n",
       "      <td>1</td>\n",
       "      <td>3</td>\n",
       "      <td>6</td>\n",
       "      <td>19</td>\n",
       "      <td>17117</td>\n",
       "    </tr>\n",
       "    <tr>\n",
       "      <th>22</th>\n",
       "      <td>WH_100022</td>\n",
       "      <td>EID_50022</td>\n",
       "      <td>0</td>\n",
       "      <td>2</td>\n",
       "      <td>1</td>\n",
       "      <td>5</td>\n",
       "      <td>5</td>\n",
       "      <td>0</td>\n",
       "      <td>4</td>\n",
       "      <td>3588</td>\n",
       "      <td>...</td>\n",
       "      <td>0</td>\n",
       "      <td>199</td>\n",
       "      <td>24.0</td>\n",
       "      <td>1997.0</td>\n",
       "      <td>28</td>\n",
       "      <td>1</td>\n",
       "      <td>4</td>\n",
       "      <td>6</td>\n",
       "      <td>8</td>\n",
       "      <td>40150</td>\n",
       "    </tr>\n",
       "    <tr>\n",
       "      <th>23</th>\n",
       "      <td>WH_100023</td>\n",
       "      <td>EID_50023</td>\n",
       "      <td>0</td>\n",
       "      <td>1</td>\n",
       "      <td>2</td>\n",
       "      <td>2</td>\n",
       "      <td>8</td>\n",
       "      <td>1</td>\n",
       "      <td>2</td>\n",
       "      <td>4388</td>\n",
       "      <td>...</td>\n",
       "      <td>1</td>\n",
       "      <td>80</td>\n",
       "      <td>37.0</td>\n",
       "      <td>2003.0</td>\n",
       "      <td>25</td>\n",
       "      <td>0</td>\n",
       "      <td>4</td>\n",
       "      <td>5</td>\n",
       "      <td>19</td>\n",
       "      <td>32098</td>\n",
       "    </tr>\n",
       "    <tr>\n",
       "      <th>24</th>\n",
       "      <td>WH_100024</td>\n",
       "      <td>EID_50024</td>\n",
       "      <td>1</td>\n",
       "      <td>0</td>\n",
       "      <td>3</td>\n",
       "      <td>4</td>\n",
       "      <td>1</td>\n",
       "      <td>0</td>\n",
       "      <td>4</td>\n",
       "      <td>5670</td>\n",
       "      <td>...</td>\n",
       "      <td>1</td>\n",
       "      <td>140</td>\n",
       "      <td>31.0</td>\n",
       "      <td>NaN</td>\n",
       "      <td>12</td>\n",
       "      <td>0</td>\n",
       "      <td>4</td>\n",
       "      <td>2</td>\n",
       "      <td>14</td>\n",
       "      <td>15125</td>\n",
       "    </tr>\n",
       "    <tr>\n",
       "      <th>25</th>\n",
       "      <td>WH_100025</td>\n",
       "      <td>EID_50025</td>\n",
       "      <td>0</td>\n",
       "      <td>1</td>\n",
       "      <td>1</td>\n",
       "      <td>2</td>\n",
       "      <td>7</td>\n",
       "      <td>1</td>\n",
       "      <td>3</td>\n",
       "      <td>5496</td>\n",
       "      <td>...</td>\n",
       "      <td>0</td>\n",
       "      <td>67</td>\n",
       "      <td>31.0</td>\n",
       "      <td>2006.0</td>\n",
       "      <td>22</td>\n",
       "      <td>0</td>\n",
       "      <td>2</td>\n",
       "      <td>3</td>\n",
       "      <td>27</td>\n",
       "      <td>26066</td>\n",
       "    </tr>\n",
       "    <tr>\n",
       "      <th>26</th>\n",
       "      <td>WH_100026</td>\n",
       "      <td>EID_50026</td>\n",
       "      <td>0</td>\n",
       "      <td>2</td>\n",
       "      <td>3</td>\n",
       "      <td>5</td>\n",
       "      <td>5</td>\n",
       "      <td>3</td>\n",
       "      <td>4</td>\n",
       "      <td>4063</td>\n",
       "      <td>...</td>\n",
       "      <td>1</td>\n",
       "      <td>229</td>\n",
       "      <td>21.0</td>\n",
       "      <td>NaN</td>\n",
       "      <td>8</td>\n",
       "      <td>0</td>\n",
       "      <td>4</td>\n",
       "      <td>6</td>\n",
       "      <td>9</td>\n",
       "      <td>10077</td>\n",
       "    </tr>\n",
       "    <tr>\n",
       "      <th>27</th>\n",
       "      <td>WH_100027</td>\n",
       "      <td>EID_50027</td>\n",
       "      <td>0</td>\n",
       "      <td>2</td>\n",
       "      <td>2</td>\n",
       "      <td>5</td>\n",
       "      <td>8</td>\n",
       "      <td>3</td>\n",
       "      <td>2</td>\n",
       "      <td>5790</td>\n",
       "      <td>...</td>\n",
       "      <td>0</td>\n",
       "      <td>98</td>\n",
       "      <td>36.0</td>\n",
       "      <td>NaN</td>\n",
       "      <td>11</td>\n",
       "      <td>0</td>\n",
       "      <td>4</td>\n",
       "      <td>4</td>\n",
       "      <td>9</td>\n",
       "      <td>14150</td>\n",
       "    </tr>\n",
       "    <tr>\n",
       "      <th>28</th>\n",
       "      <td>WH_100028</td>\n",
       "      <td>EID_50028</td>\n",
       "      <td>0</td>\n",
       "      <td>2</td>\n",
       "      <td>1</td>\n",
       "      <td>5</td>\n",
       "      <td>3</td>\n",
       "      <td>1</td>\n",
       "      <td>1</td>\n",
       "      <td>7692</td>\n",
       "      <td>...</td>\n",
       "      <td>0</td>\n",
       "      <td>154</td>\n",
       "      <td>20.0</td>\n",
       "      <td>NaN</td>\n",
       "      <td>0</td>\n",
       "      <td>0</td>\n",
       "      <td>5</td>\n",
       "      <td>0</td>\n",
       "      <td>8</td>\n",
       "      <td>3123</td>\n",
       "    </tr>\n",
       "    <tr>\n",
       "      <th>29</th>\n",
       "      <td>WH_100029</td>\n",
       "      <td>EID_50029</td>\n",
       "      <td>0</td>\n",
       "      <td>0</td>\n",
       "      <td>3</td>\n",
       "      <td>5</td>\n",
       "      <td>8</td>\n",
       "      <td>0</td>\n",
       "      <td>4</td>\n",
       "      <td>5119</td>\n",
       "      <td>...</td>\n",
       "      <td>0</td>\n",
       "      <td>261</td>\n",
       "      <td>24.0</td>\n",
       "      <td>2019.0</td>\n",
       "      <td>6</td>\n",
       "      <td>1</td>\n",
       "      <td>0</td>\n",
       "      <td>1</td>\n",
       "      <td>6</td>\n",
       "      <td>8056</td>\n",
       "    </tr>\n",
       "  </tbody>\n",
       "</table>\n",
       "<p>29 rows × 24 columns</p>\n",
       "</div>"
      ],
      "text/plain": [
       "   Ware_house_ID WH_Manager_ID  Location_type  WH_capacity_size  zone  \\\n",
       "1      WH_100001     EID_50001              0                 0     1   \n",
       "2      WH_100002     EID_50002              0                 1     2   \n",
       "3      WH_100003     EID_50003              0                 1     1   \n",
       "4      WH_100004     EID_50004              0                 0     1   \n",
       "5      WH_100005     EID_50005              0                 2     3   \n",
       "6      WH_100006     EID_50006              0                 0     3   \n",
       "7      WH_100007     EID_50007              0                 0     1   \n",
       "8      WH_100008     EID_50008              0                 2     2   \n",
       "9      WH_100009     EID_50009              0                 2     2   \n",
       "10     WH_100010     EID_50010              0                 0     1   \n",
       "11     WH_100011     EID_50011              0                 0     1   \n",
       "12     WH_100012     EID_50012              1                 1     1   \n",
       "13     WH_100013     EID_50013              0                 1     2   \n",
       "14     WH_100014     EID_50014              0                 2     3   \n",
       "15     WH_100015     EID_50015              0                 1     1   \n",
       "16     WH_100016     EID_50016              0                 1     3   \n",
       "17     WH_100017     EID_50017              0                 1     3   \n",
       "18     WH_100018     EID_50018              0                 1     1   \n",
       "19     WH_100019     EID_50019              0                 2     2   \n",
       "20     WH_100020     EID_50020              0                 1     2   \n",
       "21     WH_100021     EID_50021              0                 1     2   \n",
       "22     WH_100022     EID_50022              0                 2     1   \n",
       "23     WH_100023     EID_50023              0                 1     2   \n",
       "24     WH_100024     EID_50024              1                 0     3   \n",
       "25     WH_100025     EID_50025              0                 1     1   \n",
       "26     WH_100026     EID_50026              0                 2     3   \n",
       "27     WH_100027     EID_50027              0                 2     2   \n",
       "28     WH_100028     EID_50028              0                 2     1   \n",
       "29     WH_100029     EID_50029              0                 0     3   \n",
       "\n",
       "    WH_regional_zone  num_refill_req_l3m  transport_issue_l1y  \\\n",
       "1                  4                   0                    0   \n",
       "2                  1                   1                    0   \n",
       "3                  2                   7                    4   \n",
       "4                  4                   3                    1   \n",
       "5                  0                   8                    0   \n",
       "6                  5                   8                    0   \n",
       "7                  4                   1                    0   \n",
       "8                  5                   8                    1   \n",
       "9                  5                   4                    3   \n",
       "10                 5                   7                    1   \n",
       "11                 5                   7                    0   \n",
       "12                 1                   4                    0   \n",
       "13                 3                   6                    1   \n",
       "14                 5                   8                    1   \n",
       "15                 1                   1                    1   \n",
       "16                 3                   0                    0   \n",
       "17                 1                   0                    1   \n",
       "18                 2                   4                    1   \n",
       "19                 0                   1                    1   \n",
       "20                 1                   8                    0   \n",
       "21                 2                   6                    0   \n",
       "22                 5                   5                    0   \n",
       "23                 2                   8                    1   \n",
       "24                 4                   1                    0   \n",
       "25                 2                   7                    1   \n",
       "26                 5                   5                    3   \n",
       "27                 5                   8                    3   \n",
       "28                 5                   3                    1   \n",
       "29                 5                   8                    0   \n",
       "\n",
       "    Competitor_in_mkt  retail_shop_num  ...  electric_supply  dist_from_hub  \\\n",
       "1                   4             6217  ...                1            210   \n",
       "2                   4             4306  ...                0            161   \n",
       "3                   2             6000  ...                0            103   \n",
       "4                   2             4740  ...                1            112   \n",
       "5                   2             5053  ...                1            152   \n",
       "6                   4             4449  ...                1             77   \n",
       "7                   4             7183  ...                0            241   \n",
       "8                   4             5381  ...                1            124   \n",
       "9                   3             3869  ...                0             78   \n",
       "10                  3             4623  ...                1            150   \n",
       "11                  5             4627  ...                0            225   \n",
       "12                  3             5012  ...                0             95   \n",
       "13                  2             6858  ...                1            242   \n",
       "14                  4             5022  ...                1            129   \n",
       "15                  3             5062  ...                1            190   \n",
       "16                  2             5569  ...                1            231   \n",
       "17                  2             5539  ...                1            261   \n",
       "18                  4             4598  ...                1            159   \n",
       "19                  2             5679  ...                1            189   \n",
       "20                  2             5678  ...                1             65   \n",
       "21                  2             3980  ...                1            156   \n",
       "22                  4             3588  ...                0            199   \n",
       "23                  2             4388  ...                1             80   \n",
       "24                  4             5670  ...                1            140   \n",
       "25                  3             5496  ...                0             67   \n",
       "26                  4             4063  ...                1            229   \n",
       "27                  2             5790  ...                0             98   \n",
       "28                  1             7692  ...                0            154   \n",
       "29                  4             5119  ...                0            261   \n",
       "\n",
       "    workers_num  wh_est_year  storage_issue_reported_l3m  temp_reg_mach  \\\n",
       "1          31.0          NaN                           4              0   \n",
       "2          37.0          NaN                          17              0   \n",
       "3          21.0          NaN                          17              1   \n",
       "4          25.0       2009.0                          18              0   \n",
       "5          35.0       2009.0                          23              1   \n",
       "6          27.0       2010.0                          24              0   \n",
       "7          23.0          NaN                          18              0   \n",
       "8          22.0       2013.0                          13              1   \n",
       "9          43.0          NaN                           6              0   \n",
       "10         37.0       1999.0                          17              0   \n",
       "11         16.0       2017.0                          11              0   \n",
       "12         28.0       2022.0                           4              0   \n",
       "13         36.0       2008.0                          22              1   \n",
       "14         37.0          NaN                           6              0   \n",
       "15         19.0          NaN                           4              0   \n",
       "16         28.0          NaN                           9              0   \n",
       "17         22.0          NaN                          13              0   \n",
       "18         22.0       2001.0                          29              1   \n",
       "19         24.0          NaN                          22              0   \n",
       "20         41.0       2016.0                          19              0   \n",
       "21         31.0       2010.0                          14              1   \n",
       "22         24.0       1997.0                          28              1   \n",
       "23         37.0       2003.0                          25              0   \n",
       "24         31.0          NaN                          12              0   \n",
       "25         31.0       2006.0                          22              0   \n",
       "26         21.0          NaN                           8              0   \n",
       "27         36.0          NaN                          11              0   \n",
       "28         20.0          NaN                           0              0   \n",
       "29         24.0       2019.0                           6              1   \n",
       "\n",
       "    approved_wh_govt_certificate  wh_breakdown_l3m  govt_check_l3m  \\\n",
       "1                              0                 3              17   \n",
       "2                              0                 6              22   \n",
       "3                              1                 3              27   \n",
       "4                              4                 6              24   \n",
       "5                              1                 3               3   \n",
       "6                              2                 3               6   \n",
       "7                              4                 6              24   \n",
       "8                              1                 5               2   \n",
       "9                              4                 6               2   \n",
       "10                             3                 4               6   \n",
       "11                             2                 2              28   \n",
       "12                             3                 1               1   \n",
       "13                             0                 5              11   \n",
       "14                             2                 3               9   \n",
       "15                             3                 3              12   \n",
       "16                             3                 5              11   \n",
       "17                             0                 4              12   \n",
       "18                             1                 5              27   \n",
       "19                             2                 2              21   \n",
       "20                             3                 4               1   \n",
       "21                             3                 6              19   \n",
       "22                             4                 6               8   \n",
       "23                             4                 5              19   \n",
       "24                             4                 2              14   \n",
       "25                             2                 3              27   \n",
       "26                             4                 6               9   \n",
       "27                             4                 4               9   \n",
       "28                             5                 0               8   \n",
       "29                             0                 1               6   \n",
       "\n",
       "    product_wg_ton  \n",
       "1             5074  \n",
       "2            23137  \n",
       "3            22115  \n",
       "4            24071  \n",
       "5            32134  \n",
       "6            30142  \n",
       "7            24093  \n",
       "8            18082  \n",
       "9             7130  \n",
       "10           21125  \n",
       "11           14115  \n",
       "12            5124  \n",
       "13           30063  \n",
       "14            7055  \n",
       "15            5094  \n",
       "16           12127  \n",
       "17           17134  \n",
       "18           38082  \n",
       "19           27100  \n",
       "20           24062  \n",
       "21           17117  \n",
       "22           40150  \n",
       "23           32098  \n",
       "24           15125  \n",
       "25           26066  \n",
       "26           10077  \n",
       "27           14150  \n",
       "28            3123  \n",
       "29            8056  \n",
       "\n",
       "[29 rows x 24 columns]"
      ]
     },
     "execution_count": 34,
     "metadata": {},
     "output_type": "execute_result"
    }
   ],
   "source": [
    "data_2 = data[1:30]\n",
    "data_2"
   ]
  },
  {
   "cell_type": "code",
   "execution_count": 35,
   "id": "030926d4",
   "metadata": {},
   "outputs": [
    {
     "name": "stdout",
     "output_type": "stream",
     "text": [
      "Stats = 0.08673092055756895 and p value is 0.6546149834681105\n",
      "product weight tonne is independent from Location_type\n"
     ]
    }
   ],
   "source": [
    "stat, p = pearsonr(data_2['workers_num'],data_2['product_wg_ton'])\n",
    "print('Stats = {} and p value is {}'.format(stat,p))\n",
    "if p>0.05:\n",
    "    print('product weight tonne is independent from Location_type')\n",
    "else:\n",
    "    print('product weight tonne is dependent on Location_type')"
   ]
  },
  {
   "cell_type": "code",
   "execution_count": 42,
   "id": "13fa0863",
   "metadata": {},
   "outputs": [],
   "source": [
    "data_3 = data[1600:1630]"
   ]
  },
  {
   "cell_type": "code",
   "execution_count": 43,
   "id": "7614a5f7",
   "metadata": {},
   "outputs": [
    {
     "name": "stdout",
     "output_type": "stream",
     "text": [
      "Stats = 0.07311671871199467 and p value is 0.7009973351184556\n",
      "product weight tonne is independent from Location_type\n"
     ]
    }
   ],
   "source": [
    "stat, p = pearsonr(data_3['workers_num'],data_3['product_wg_ton'])\n",
    "print('Stats = {} and p value is {}'.format(stat,p))\n",
    "if p>0.05:\n",
    "    print('product weight tonne is independent from Location_type')\n",
    "else:\n",
    "    print('product weight tonne is dependent on Location_type')"
   ]
  },
  {
   "cell_type": "code",
   "execution_count": 46,
   "id": "dbdd4dd3",
   "metadata": {},
   "outputs": [
    {
     "ename": "ValueError",
     "evalue": "array must not contain infs or NaNs",
     "output_type": "error",
     "traceback": [
      "\u001b[1;31m---------------------------------------------------------------------------\u001b[0m",
      "\u001b[1;31mValueError\u001b[0m                                Traceback (most recent call last)",
      "Input \u001b[1;32mIn [46]\u001b[0m, in \u001b[0;36m<cell line: 1>\u001b[1;34m()\u001b[0m\n\u001b[1;32m----> 1\u001b[0m stat, p \u001b[38;5;241m=\u001b[39m \u001b[43mpearsonr\u001b[49m\u001b[43m(\u001b[49m\u001b[43mdata_3\u001b[49m\u001b[43m[\u001b[49m\u001b[38;5;124;43m'\u001b[39;49m\u001b[38;5;124;43mwh_est_year\u001b[39;49m\u001b[38;5;124;43m'\u001b[39;49m\u001b[43m]\u001b[49m\u001b[43m,\u001b[49m\u001b[43mdata_3\u001b[49m\u001b[43m[\u001b[49m\u001b[38;5;124;43m'\u001b[39;49m\u001b[38;5;124;43mproduct_wg_ton\u001b[39;49m\u001b[38;5;124;43m'\u001b[39;49m\u001b[43m]\u001b[49m\u001b[43m)\u001b[49m\n\u001b[0;32m      2\u001b[0m \u001b[38;5;28mprint\u001b[39m(\u001b[38;5;124m'\u001b[39m\u001b[38;5;124mStats = \u001b[39m\u001b[38;5;132;01m{}\u001b[39;00m\u001b[38;5;124m and p value is \u001b[39m\u001b[38;5;132;01m{}\u001b[39;00m\u001b[38;5;124m'\u001b[39m\u001b[38;5;241m.\u001b[39mformat(stat,p))\n\u001b[0;32m      3\u001b[0m \u001b[38;5;28;01mif\u001b[39;00m p\u001b[38;5;241m>\u001b[39m\u001b[38;5;241m0.05\u001b[39m:\n",
      "File \u001b[1;32m~\\anaconda3\\lib\\site-packages\\scipy\\stats\\stats.py:4045\u001b[0m, in \u001b[0;36mpearsonr\u001b[1;34m(x, y)\u001b[0m\n\u001b[0;32m   4040\u001b[0m ym \u001b[38;5;241m=\u001b[39m y\u001b[38;5;241m.\u001b[39mastype(dtype) \u001b[38;5;241m-\u001b[39m ymean\n\u001b[0;32m   4042\u001b[0m \u001b[38;5;66;03m# Unlike np.linalg.norm or the expression sqrt((xm*xm).sum()),\u001b[39;00m\n\u001b[0;32m   4043\u001b[0m \u001b[38;5;66;03m# scipy.linalg.norm(xm) does not overflow if xm is, for example,\u001b[39;00m\n\u001b[0;32m   4044\u001b[0m \u001b[38;5;66;03m# [-5e210, 5e210, 3e200, -3e200]\u001b[39;00m\n\u001b[1;32m-> 4045\u001b[0m normxm \u001b[38;5;241m=\u001b[39m \u001b[43mlinalg\u001b[49m\u001b[38;5;241;43m.\u001b[39;49m\u001b[43mnorm\u001b[49m\u001b[43m(\u001b[49m\u001b[43mxm\u001b[49m\u001b[43m)\u001b[49m\n\u001b[0;32m   4046\u001b[0m normym \u001b[38;5;241m=\u001b[39m linalg\u001b[38;5;241m.\u001b[39mnorm(ym)\n\u001b[0;32m   4048\u001b[0m threshold \u001b[38;5;241m=\u001b[39m \u001b[38;5;241m1e-13\u001b[39m\n",
      "File \u001b[1;32m~\\anaconda3\\lib\\site-packages\\scipy\\linalg\\misc.py:145\u001b[0m, in \u001b[0;36mnorm\u001b[1;34m(a, ord, axis, keepdims, check_finite)\u001b[0m\n\u001b[0;32m    143\u001b[0m \u001b[38;5;66;03m# Differs from numpy only in non-finite handling and the use of blas.\u001b[39;00m\n\u001b[0;32m    144\u001b[0m \u001b[38;5;28;01mif\u001b[39;00m check_finite:\n\u001b[1;32m--> 145\u001b[0m     a \u001b[38;5;241m=\u001b[39m \u001b[43mnp\u001b[49m\u001b[38;5;241;43m.\u001b[39;49m\u001b[43masarray_chkfinite\u001b[49m\u001b[43m(\u001b[49m\u001b[43ma\u001b[49m\u001b[43m)\u001b[49m\n\u001b[0;32m    146\u001b[0m \u001b[38;5;28;01melse\u001b[39;00m:\n\u001b[0;32m    147\u001b[0m     a \u001b[38;5;241m=\u001b[39m np\u001b[38;5;241m.\u001b[39masarray(a)\n",
      "File \u001b[1;32m~\\anaconda3\\lib\\site-packages\\numpy\\lib\\function_base.py:488\u001b[0m, in \u001b[0;36masarray_chkfinite\u001b[1;34m(a, dtype, order)\u001b[0m\n\u001b[0;32m    486\u001b[0m a \u001b[38;5;241m=\u001b[39m asarray(a, dtype\u001b[38;5;241m=\u001b[39mdtype, order\u001b[38;5;241m=\u001b[39morder)\n\u001b[0;32m    487\u001b[0m \u001b[38;5;28;01mif\u001b[39;00m a\u001b[38;5;241m.\u001b[39mdtype\u001b[38;5;241m.\u001b[39mchar \u001b[38;5;129;01min\u001b[39;00m typecodes[\u001b[38;5;124m'\u001b[39m\u001b[38;5;124mAllFloat\u001b[39m\u001b[38;5;124m'\u001b[39m] \u001b[38;5;129;01mand\u001b[39;00m \u001b[38;5;129;01mnot\u001b[39;00m np\u001b[38;5;241m.\u001b[39misfinite(a)\u001b[38;5;241m.\u001b[39mall():\n\u001b[1;32m--> 488\u001b[0m     \u001b[38;5;28;01mraise\u001b[39;00m \u001b[38;5;167;01mValueError\u001b[39;00m(\n\u001b[0;32m    489\u001b[0m         \u001b[38;5;124m\"\u001b[39m\u001b[38;5;124marray must not contain infs or NaNs\u001b[39m\u001b[38;5;124m\"\u001b[39m)\n\u001b[0;32m    490\u001b[0m \u001b[38;5;28;01mreturn\u001b[39;00m a\n",
      "\u001b[1;31mValueError\u001b[0m: array must not contain infs or NaNs"
     ]
    }
   ],
   "source": [
    "stat, p = pearsonr(data_3['wh_est_year'],data_3['product_wg_ton'])\n",
    "print('Stats = {} and p value is {}'.format(stat,p))\n",
    "if p>0.05:\n",
    "    print('product weight tonne is independent from Location_type')\n",
    "else:\n",
    "    print('product weight tonne is dependent on Location_type')"
   ]
  },
  {
   "cell_type": "code",
   "execution_count": 48,
   "id": "76a7e133",
   "metadata": {},
   "outputs": [
    {
     "data": {
      "text/plain": [
       "11605"
      ]
     },
     "execution_count": 48,
     "metadata": {},
     "output_type": "execute_result"
    }
   ],
   "source": [
    "data['wh_est_year'].value_counts().sum()"
   ]
  },
  {
   "cell_type": "code",
   "execution_count": 63,
   "id": "e3ea19ce",
   "metadata": {},
   "outputs": [
    {
     "data": {
      "text/html": [
       "<div>\n",
       "<style scoped>\n",
       "    .dataframe tbody tr th:only-of-type {\n",
       "        vertical-align: middle;\n",
       "    }\n",
       "\n",
       "    .dataframe tbody tr th {\n",
       "        vertical-align: top;\n",
       "    }\n",
       "\n",
       "    .dataframe thead th {\n",
       "        text-align: right;\n",
       "    }\n",
       "</style>\n",
       "<table border=\"1\" class=\"dataframe\">\n",
       "  <thead>\n",
       "    <tr style=\"text-align: right;\">\n",
       "      <th></th>\n",
       "      <th>Ware_house_ID</th>\n",
       "      <th>WH_Manager_ID</th>\n",
       "      <th>Location_type</th>\n",
       "      <th>WH_capacity_size</th>\n",
       "      <th>zone</th>\n",
       "      <th>WH_regional_zone</th>\n",
       "      <th>num_refill_req_l3m</th>\n",
       "      <th>transport_issue_l1y</th>\n",
       "      <th>Competitor_in_mkt</th>\n",
       "      <th>retail_shop_num</th>\n",
       "      <th>...</th>\n",
       "      <th>electric_supply</th>\n",
       "      <th>dist_from_hub</th>\n",
       "      <th>workers_num</th>\n",
       "      <th>wh_est_year</th>\n",
       "      <th>storage_issue_reported_l3m</th>\n",
       "      <th>temp_reg_mach</th>\n",
       "      <th>approved_wh_govt_certificate</th>\n",
       "      <th>wh_breakdown_l3m</th>\n",
       "      <th>govt_check_l3m</th>\n",
       "      <th>product_wg_ton</th>\n",
       "    </tr>\n",
       "  </thead>\n",
       "  <tbody>\n",
       "  </tbody>\n",
       "</table>\n",
       "<p>0 rows × 24 columns</p>\n",
       "</div>"
      ],
      "text/plain": [
       "Empty DataFrame\n",
       "Columns: [Ware_house_ID, WH_Manager_ID, Location_type, WH_capacity_size, zone, WH_regional_zone, num_refill_req_l3m, transport_issue_l1y, Competitor_in_mkt, retail_shop_num, wh_owner_type, distributor_num, flood_impacted, flood_proof, electric_supply, dist_from_hub, workers_num, wh_est_year, storage_issue_reported_l3m, temp_reg_mach, approved_wh_govt_certificate, wh_breakdown_l3m, govt_check_l3m, product_wg_ton]\n",
       "Index: []\n",
       "\n",
       "[0 rows x 24 columns]"
      ]
     },
     "execution_count": 63,
     "metadata": {},
     "output_type": "execute_result"
    }
   ],
   "source": [
    "data_4 = data[data['wh_est_year']==]\n",
    "data_4"
   ]
  },
  {
   "cell_type": "code",
   "execution_count": 54,
   "id": "8bd01fcb",
   "metadata": {},
   "outputs": [
    {
     "ename": "ValueError",
     "evalue": "array must not contain infs or NaNs",
     "output_type": "error",
     "traceback": [
      "\u001b[1;31m---------------------------------------------------------------------------\u001b[0m",
      "\u001b[1;31mValueError\u001b[0m                                Traceback (most recent call last)",
      "Input \u001b[1;32mIn [54]\u001b[0m, in \u001b[0;36m<cell line: 1>\u001b[1;34m()\u001b[0m\n\u001b[1;32m----> 1\u001b[0m stat, p \u001b[38;5;241m=\u001b[39m \u001b[43mpearsonr\u001b[49m\u001b[43m(\u001b[49m\u001b[43mdata_4\u001b[49m\u001b[43m[\u001b[49m\u001b[38;5;124;43m'\u001b[39;49m\u001b[38;5;124;43mwh_est_year\u001b[39;49m\u001b[38;5;124;43m'\u001b[39;49m\u001b[43m]\u001b[49m\u001b[43m,\u001b[49m\u001b[43mdata_4\u001b[49m\u001b[43m[\u001b[49m\u001b[38;5;124;43m'\u001b[39;49m\u001b[38;5;124;43mproduct_wg_ton\u001b[39;49m\u001b[38;5;124;43m'\u001b[39;49m\u001b[43m]\u001b[49m\u001b[43m)\u001b[49m\n\u001b[0;32m      2\u001b[0m \u001b[38;5;28mprint\u001b[39m(\u001b[38;5;124m'\u001b[39m\u001b[38;5;124mStats = \u001b[39m\u001b[38;5;132;01m{}\u001b[39;00m\u001b[38;5;124m and p value is \u001b[39m\u001b[38;5;132;01m{}\u001b[39;00m\u001b[38;5;124m'\u001b[39m\u001b[38;5;241m.\u001b[39mformat(stat,p))\n\u001b[0;32m      3\u001b[0m \u001b[38;5;28;01mif\u001b[39;00m p\u001b[38;5;241m>\u001b[39m\u001b[38;5;241m0.05\u001b[39m:\n",
      "File \u001b[1;32m~\\anaconda3\\lib\\site-packages\\scipy\\stats\\stats.py:4045\u001b[0m, in \u001b[0;36mpearsonr\u001b[1;34m(x, y)\u001b[0m\n\u001b[0;32m   4040\u001b[0m ym \u001b[38;5;241m=\u001b[39m y\u001b[38;5;241m.\u001b[39mastype(dtype) \u001b[38;5;241m-\u001b[39m ymean\n\u001b[0;32m   4042\u001b[0m \u001b[38;5;66;03m# Unlike np.linalg.norm or the expression sqrt((xm*xm).sum()),\u001b[39;00m\n\u001b[0;32m   4043\u001b[0m \u001b[38;5;66;03m# scipy.linalg.norm(xm) does not overflow if xm is, for example,\u001b[39;00m\n\u001b[0;32m   4044\u001b[0m \u001b[38;5;66;03m# [-5e210, 5e210, 3e200, -3e200]\u001b[39;00m\n\u001b[1;32m-> 4045\u001b[0m normxm \u001b[38;5;241m=\u001b[39m \u001b[43mlinalg\u001b[49m\u001b[38;5;241;43m.\u001b[39;49m\u001b[43mnorm\u001b[49m\u001b[43m(\u001b[49m\u001b[43mxm\u001b[49m\u001b[43m)\u001b[49m\n\u001b[0;32m   4046\u001b[0m normym \u001b[38;5;241m=\u001b[39m linalg\u001b[38;5;241m.\u001b[39mnorm(ym)\n\u001b[0;32m   4048\u001b[0m threshold \u001b[38;5;241m=\u001b[39m \u001b[38;5;241m1e-13\u001b[39m\n",
      "File \u001b[1;32m~\\anaconda3\\lib\\site-packages\\scipy\\linalg\\misc.py:145\u001b[0m, in \u001b[0;36mnorm\u001b[1;34m(a, ord, axis, keepdims, check_finite)\u001b[0m\n\u001b[0;32m    143\u001b[0m \u001b[38;5;66;03m# Differs from numpy only in non-finite handling and the use of blas.\u001b[39;00m\n\u001b[0;32m    144\u001b[0m \u001b[38;5;28;01mif\u001b[39;00m check_finite:\n\u001b[1;32m--> 145\u001b[0m     a \u001b[38;5;241m=\u001b[39m \u001b[43mnp\u001b[49m\u001b[38;5;241;43m.\u001b[39;49m\u001b[43masarray_chkfinite\u001b[49m\u001b[43m(\u001b[49m\u001b[43ma\u001b[49m\u001b[43m)\u001b[49m\n\u001b[0;32m    146\u001b[0m \u001b[38;5;28;01melse\u001b[39;00m:\n\u001b[0;32m    147\u001b[0m     a \u001b[38;5;241m=\u001b[39m np\u001b[38;5;241m.\u001b[39masarray(a)\n",
      "File \u001b[1;32m~\\anaconda3\\lib\\site-packages\\numpy\\lib\\function_base.py:488\u001b[0m, in \u001b[0;36masarray_chkfinite\u001b[1;34m(a, dtype, order)\u001b[0m\n\u001b[0;32m    486\u001b[0m a \u001b[38;5;241m=\u001b[39m asarray(a, dtype\u001b[38;5;241m=\u001b[39mdtype, order\u001b[38;5;241m=\u001b[39morder)\n\u001b[0;32m    487\u001b[0m \u001b[38;5;28;01mif\u001b[39;00m a\u001b[38;5;241m.\u001b[39mdtype\u001b[38;5;241m.\u001b[39mchar \u001b[38;5;129;01min\u001b[39;00m typecodes[\u001b[38;5;124m'\u001b[39m\u001b[38;5;124mAllFloat\u001b[39m\u001b[38;5;124m'\u001b[39m] \u001b[38;5;129;01mand\u001b[39;00m \u001b[38;5;129;01mnot\u001b[39;00m np\u001b[38;5;241m.\u001b[39misfinite(a)\u001b[38;5;241m.\u001b[39mall():\n\u001b[1;32m--> 488\u001b[0m     \u001b[38;5;28;01mraise\u001b[39;00m \u001b[38;5;167;01mValueError\u001b[39;00m(\n\u001b[0;32m    489\u001b[0m         \u001b[38;5;124m\"\u001b[39m\u001b[38;5;124marray must not contain infs or NaNs\u001b[39m\u001b[38;5;124m\"\u001b[39m)\n\u001b[0;32m    490\u001b[0m \u001b[38;5;28;01mreturn\u001b[39;00m a\n",
      "\u001b[1;31mValueError\u001b[0m: array must not contain infs or NaNs"
     ]
    }
   ],
   "source": [
    "stat, p = pearsonr(data_4['wh_est_year'],data_4['product_wg_ton'])\n",
    "print('Stats = {} and p value is {}'.format(stat,p))\n",
    "if p>0.05:\n",
    "    print('product weight tonne is independent from Location_type')\n",
    "else:\n",
    "    print('product weight tonne is dependent on Location_type')"
   ]
  },
  {
   "cell_type": "code",
   "execution_count": 56,
   "id": "f6063673",
   "metadata": {},
   "outputs": [
    {
     "data": {
      "text/plain": [
       "11605"
      ]
     },
     "execution_count": 56,
     "metadata": {},
     "output_type": "execute_result"
    }
   ],
   "source": [
    "data_4['wh_est_year'].value_counts().sum()"
   ]
  },
  {
   "cell_type": "code",
   "execution_count": 68,
   "id": "2cb21554",
   "metadata": {},
   "outputs": [],
   "source": [
    "data_5 = pd.notnull(data['wh_est_year'])\n",
    "data6 = data[data_5]"
   ]
  },
  {
   "cell_type": "code",
   "execution_count": 71,
   "id": "19359d8e",
   "metadata": {},
   "outputs": [
    {
     "name": "stdout",
     "output_type": "stream",
     "text": [
      "stat=-0.83, p=0.00000000000000000000\n",
      "product weight tonne is dependent on Location_type\n"
     ]
    }
   ],
   "source": [
    "stat, p = pearsonr(data6['wh_est_year'],data6['product_wg_ton'])\n",
    "print('stat=%.2f, p=%.20f' %(stat,p))\n",
    "if p>0.05:\n",
    "    print('product weight tonne is independent from Location_type')\n",
    "else:\n",
    "    print('product weight tonne is dependent on Location_type')"
   ]
  },
  {
   "cell_type": "code",
   "execution_count": 72,
   "id": "45eb272e",
   "metadata": {},
   "outputs": [
    {
     "name": "stdout",
     "output_type": "stream",
     "text": [
      "Stats = 0.9867962159396109 and p value is 0.0\n",
      "product weight tonne is dependent on Location_type\n"
     ]
    }
   ],
   "source": [
    "stat, p = pearsonr(data['storage_issue_reported_l3m'],data['product_wg_ton'])\n",
    "print('Stats = {} and p value is {}'.format(stat,p))\n",
    "if p>0.05:\n",
    "    print('product weight tonne is independent from Location_type')\n",
    "else:\n",
    "    print('product weight tonne is dependent on Location_type')"
   ]
  },
  {
   "cell_type": "code",
   "execution_count": 74,
   "id": "fcd17e11",
   "metadata": {},
   "outputs": [
    {
     "name": "stdout",
     "output_type": "stream",
     "text": [
      "Stats = -0.2261561358825812 and p value is 7.542961087692836e-255\n",
      "product weight tonne is dependent on Location_type\n"
     ]
    }
   ],
   "source": [
    "stat, p = pearsonr(data['approved_wh_govt_certificate'],data['product_wg_ton'])\n",
    "print('Stats = {} and p value is {}'.format(stat,p))\n",
    "if p>0.05:\n",
    "    print('product weight tonne is independent from Location_type')\n",
    "else:\n",
    "    print('product weight tonne is dependent on Location_type')"
   ]
  },
  {
   "cell_type": "code",
   "execution_count": 75,
   "id": "7c0d90b7",
   "metadata": {},
   "outputs": [
    {
     "name": "stdout",
     "output_type": "stream",
     "text": [
      "Stats = 0.3436766901033246 and p value is 0.0\n",
      "product weight tonne is dependent on Location_type\n"
     ]
    }
   ],
   "source": [
    "stat, p = pearsonr(data['wh_breakdown_l3m'],data['product_wg_ton'])\n",
    "print('Stats = {} and p value is {}'.format(stat,p))\n",
    "if p>0.05:\n",
    "    print('product weight tonne is independent from Location_type')\n",
    "else:\n",
    "    print('product weight tonne is dependent on Location_type')"
   ]
  },
  {
   "cell_type": "code",
   "execution_count": 76,
   "id": "f4395dbb",
   "metadata": {},
   "outputs": [
    {
     "name": "stdout",
     "output_type": "stream",
     "text": [
      "Stats = -0.011976925026861072 and p value is 0.07467192869327043\n",
      "product weight tonne is independent from Location_type\n"
     ]
    }
   ],
   "source": [
    "stat, p = pearsonr(data['govt_check_l3m'],data['product_wg_ton'])\n",
    "print('Stats = {} and p value is {}'.format(stat,p))\n",
    "if p>0.05:\n",
    "    print('product weight tonne is independent from Location_type')\n",
    "else:\n",
    "    print('product weight tonne is dependent on Location_type')"
   ]
  },
  {
   "cell_type": "code",
   "execution_count": 78,
   "id": "073dd4a9",
   "metadata": {},
   "outputs": [
    {
     "data": {
      "text/plain": [
       "Index(['Ware_house_ID', 'WH_Manager_ID', 'Location_type', 'WH_capacity_size',\n",
       "       'zone', 'WH_regional_zone', 'num_refill_req_l3m', 'transport_issue_l1y',\n",
       "       'Competitor_in_mkt', 'retail_shop_num', 'wh_owner_type',\n",
       "       'distributor_num', 'flood_impacted', 'flood_proof', 'electric_supply',\n",
       "       'dist_from_hub', 'workers_num', 'wh_est_year',\n",
       "       'storage_issue_reported_l3m', 'temp_reg_mach',\n",
       "       'approved_wh_govt_certificate', 'wh_breakdown_l3m', 'govt_check_l3m',\n",
       "       'product_wg_ton'],\n",
       "      dtype='object')"
      ]
     },
     "execution_count": 78,
     "metadata": {},
     "output_type": "execute_result"
    }
   ],
   "source": [
    "data.columns"
   ]
  },
  {
   "cell_type": "code",
   "execution_count": null,
   "id": "9a6ee4a4",
   "metadata": {},
   "outputs": [],
   "source": []
  }
 ],
 "metadata": {
  "kernelspec": {
   "display_name": "Python 3 (ipykernel)",
   "language": "python",
   "name": "python3"
  },
  "language_info": {
   "codemirror_mode": {
    "name": "ipython",
    "version": 3
   },
   "file_extension": ".py",
   "mimetype": "text/x-python",
   "name": "python",
   "nbconvert_exporter": "python",
   "pygments_lexer": "ipython3",
   "version": "3.9.12"
  },
  "varInspector": {
   "cols": {
    "lenName": 16,
    "lenType": 16,
    "lenVar": 40
   },
   "kernels_config": {
    "python": {
     "delete_cmd_postfix": "",
     "delete_cmd_prefix": "del ",
     "library": "var_list.py",
     "varRefreshCmd": "print(var_dic_list())"
    },
    "r": {
     "delete_cmd_postfix": ") ",
     "delete_cmd_prefix": "rm(",
     "library": "var_list.r",
     "varRefreshCmd": "cat(var_dic_list()) "
    }
   },
   "types_to_exclude": [
    "module",
    "function",
    "builtin_function_or_method",
    "instance",
    "_Feature"
   ],
   "window_display": false
  }
 },
 "nbformat": 4,
 "nbformat_minor": 5
}
