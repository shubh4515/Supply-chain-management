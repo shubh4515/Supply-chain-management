{
 "cells": [
  {
   "cell_type": "code",
   "execution_count": 1,
   "id": "085d747c",
   "metadata": {},
   "outputs": [],
   "source": [
    "import pandas as pd\n",
    "import numpy as np\n",
    "import seaborn as sns\n",
    "import matplotlib.pyplot as plt"
   ]
  },
  {
   "cell_type": "code",
   "execution_count": 2,
   "id": "7f202b14",
   "metadata": {},
   "outputs": [],
   "source": [
    "data = pd.read_excel(r'C:\\Users\\Shubham Dandak\\Downloads\\Supplychain train dataset.xlsx')"
   ]
  },
  {
   "cell_type": "code",
   "execution_count": 3,
   "id": "266d43d7",
   "metadata": {},
   "outputs": [],
   "source": [
    "def show_values(axs, orient=\"v\", space=.01):\n",
    "    def _single(ax):\n",
    "        if orient == \"v\":\n",
    "            for p in ax.patches:\n",
    "                _x = p.get_x() + p.get_width() / 2\n",
    "                _y = p.get_y() + p.get_height() + (p.get_height()*0.01)\n",
    "                value = '{:.1f}'.format(p.get_height())\n",
    "                ax.text(_x, _y, value, ha=\"center\") \n",
    "        elif orient == \"h\":\n",
    "            for p in ax.patches:\n",
    "                _x = p.get_x() + p.get_width() + float(space)\n",
    "                _y = p.get_y() + p.get_height() - (p.get_height()*0.5)\n",
    "                value = '{:.1f}'.format(p.get_width())\n",
    "                ax.text(_x, _y, value, ha=\"left\")\n",
    "\n",
    "    if isinstance(axs, np.ndarray):\n",
    "        for idx, ax in np.ndenumerate(axs):\n",
    "            _single(ax)\n",
    "    else:\n",
    "        _single(axs)"
   ]
  },
  {
   "cell_type": "code",
   "execution_count": 4,
   "id": "b7d71053",
   "metadata": {},
   "outputs": [
    {
     "data": {
      "image/png": "[encoded data removed]",
      "text/plain": [
       "<Figure size 864x504 with 1 Axes>"
      ]
     },
     "metadata": {
      "needs_background": "light"
     },
     "output_type": "display_data"
    }
   ],
   "source": [
    "plt.figure(figsize=(12,7))\n",
    "p = sns.barplot(x='num_refill_req_l3m',y='product_wg_ton', data=data)\n",
    "show_values(p)"
   ]
  },
  {
   "cell_type": "code",
   "execution_count": 5,
   "id": "b705961a",
   "metadata": {},
   "outputs": [
    {
     "data": {
      "text/plain": [
       "Index(['Ware_house_ID', 'WH_Manager_ID', 'Location_type', 'WH_capacity_size',\n",
       "       'zone', 'WH_regional_zone', 'num_refill_req_l3m', 'transport_issue_l1y',\n",
       "       'Competitor_in_mkt', 'retail_shop_num', 'wh_owner_type',\n",
       "       'distributor_num', 'flood_impacted', 'flood_proof', 'electric_supply',\n",
       "       'dist_from_hub', 'workers_num', 'wh_est_year',\n",
       "       'storage_issue_reported_l3m', 'temp_reg_mach',\n",
       "       'approved_wh_govt_certificate', 'wh_breakdown_l3m', 'govt_check_l3m',\n",
       "       'product_wg_ton'],\n",
       "      dtype='object')"
      ]
     },
     "execution_count": 5,
     "metadata": {},
     "output_type": "execute_result"
    }
   ],
   "source": [
    "data.columns"
   ]
  },
  {
   "cell_type": "code",
   "execution_count": 6,
   "id": "c002c8b2",
   "metadata": {},
   "outputs": [
    {
     "data": {
      "image/png": "[encoded data removed]",
      "text/plain": [
       "<Figure size 432x288 with 1 Axes>"
      ]
     },
     "metadata": {
      "needs_background": "light"
     },
     "output_type": "display_data"
    }
   ],
   "source": [
    "p = sns.barplot(x='WH_capacity_size',y='product_wg_ton', data=data)\n",
    "show_values(p)"
   ]
  },
  {
   "cell_type": "code",
   "execution_count": 7,
   "id": "6fdfbdcf",
   "metadata": {},
   "outputs": [
    {
     "name": "stdout",
     "output_type": "stream",
     "text": [
      "<class 'pandas.core.frame.DataFrame'>\n",
      "RangeIndex: 22150 entries, 0 to 22149\n",
      "Data columns (total 24 columns):\n",
      " #   Column                        Non-Null Count  Dtype  \n",
      "---  ------                        --------------  -----  \n",
      " 0   Ware_house_ID                 22150 non-null  object \n",
      " 1   WH_Manager_ID                 22150 non-null  object \n",
      " 2   Location_type                 22150 non-null  object \n",
      " 3   WH_capacity_size              22150 non-null  object \n",
      " 4   zone                          22150 non-null  object \n",
      " 5   WH_regional_zone              22150 non-null  object \n",
      " 6   num_refill_req_l3m            22150 non-null  int64  \n",
      " 7   transport_issue_l1y           22150 non-null  int64  \n",
      " 8   Competitor_in_mkt             22150 non-null  int64  \n",
      " 9   retail_shop_num               22150 non-null  int64  \n",
      " 10  wh_owner_type                 22150 non-null  object \n",
      " 11  distributor_num               22150 non-null  int64  \n",
      " 12  flood_impacted                22150 non-null  int64  \n",
      " 13  flood_proof                   22150 non-null  int64  \n",
      " 14  electric_supply               22150 non-null  int64  \n",
      " 15  dist_from_hub                 22150 non-null  int64  \n",
      " 16  workers_num                   21273 non-null  float64\n",
      " 17  wh_est_year                   11605 non-null  float64\n",
      " 18  storage_issue_reported_l3m    22150 non-null  int64  \n",
      " 19  temp_reg_mach                 22150 non-null  int64  \n",
      " 20  approved_wh_govt_certificate  21345 non-null  object \n",
      " 21  wh_breakdown_l3m              22150 non-null  int64  \n",
      " 22  govt_check_l3m                22150 non-null  int64  \n",
      " 23  product_wg_ton                22150 non-null  int64  \n",
      "dtypes: float64(2), int64(14), object(8)\n",
      "memory usage: 4.1+ MB\n"
     ]
    }
   ],
   "source": [
    "data.info()"
   ]
  },
  {
   "cell_type": "markdown",
   "id": "56032815",
   "metadata": {},
   "source": [
    "# Hypothesis testing"
   ]
  },
  {
   "cell_type": "code",
   "execution_count": 8,
   "id": "301a6fce",
   "metadata": {},
   "outputs": [],
   "source": [
    "prod_wg_tn = data[['product_wg_ton']]"
   ]
  },
  {
   "cell_type": "code",
   "execution_count": 9,
   "id": "902daacc",
   "metadata": {},
   "outputs": [
    {
     "name": "stdout",
     "output_type": "stream",
     "text": [
      "product_wg_ton    22086.780813\n",
      "dtype: float64\n"
     ]
    },
    {
     "name": "stderr",
     "output_type": "stream",
     "text": [
      "C:\\Users\\Shubham Dandak\\anaconda3\\lib\\site-packages\\numpy\\core\\fromnumeric.py:3438: FutureWarning: In a future version, DataFrame.mean(axis=None) will return a scalar mean over the entire DataFrame. To retain the old behavior, use 'frame.mean(axis=0)' or just 'frame.mean()'\n",
      "  return mean(axis=axis, dtype=dtype, out=out, **kwargs)\n"
     ]
    }
   ],
   "source": [
    "prod_wg_tn_mean = np.mean(prod_wg_tn)\n",
    "print(prod_wg_tn_mean)"
   ]
  },
  {
   "cell_type": "code",
   "execution_count": 10,
   "id": "9d61b66d",
   "metadata": {},
   "outputs": [],
   "source": [
    "from scipy.stats import ttest_1samp"
   ]
  },
  {
   "cell_type": "code",
   "execution_count": 11,
   "id": "83778b2d",
   "metadata": {},
   "outputs": [],
   "source": [
    "prod_wg_tn = np.array(prod_wg_tn)"
   ]
  },
  {
   "cell_type": "code",
   "execution_count": 12,
   "id": "59e7756b",
   "metadata": {},
   "outputs": [
    {
     "data": {
      "text/plain": [
       "array([17115,  5074, 23137, ..., 24072, 15055, 14103], dtype=int64)"
      ]
     },
     "execution_count": 12,
     "metadata": {},
     "output_type": "execute_result"
    }
   ],
   "source": [
    "prod_wg_tn.flatten()"
   ]
  },
  {
   "cell_type": "code",
   "execution_count": 13,
   "id": "5992d178",
   "metadata": {},
   "outputs": [
    {
     "name": "stdout",
     "output_type": "stream",
     "text": [
      "[0.99202512]\n"
     ]
    }
   ],
   "source": [
    "ttest,p_value = ttest_1samp(prod_wg_tn,22086)\n",
    "print(p_value)"
   ]
  },
  {
   "cell_type": "code",
   "execution_count": 14,
   "id": "97a6ff0a",
   "metadata": {},
   "outputs": [
    {
     "data": {
      "text/plain": [
       "array([[17115],\n",
       "       [ 5074],\n",
       "       [23137],\n",
       "       ...,\n",
       "       [24072],\n",
       "       [15055],\n",
       "       [14103]], dtype=int64)"
      ]
     },
     "execution_count": 14,
     "metadata": {},
     "output_type": "execute_result"
    }
   ],
   "source": [
    "prod_wg_tn"
   ]
  },
  {
   "cell_type": "code",
   "execution_count": 15,
   "id": "c99c284c",
   "metadata": {},
   "outputs": [],
   "source": [
    "product_wgt_tonn = data[['product_wg_ton']]"
   ]
  },
  {
   "cell_type": "code",
   "execution_count": 16,
   "id": "3c3dec32",
   "metadata": {},
   "outputs": [
    {
     "data": {
      "text/plain": [
       "<seaborn.axisgrid.FacetGrid at 0x12a2a333f40>"
      ]
     },
     "execution_count": 16,
     "metadata": {},
     "output_type": "execute_result"
    },
    {
     "data": {
      "image/png": "[encoded data removed]",
      "text/plain": [
       "<Figure size 475x360 with 1 Axes>"
      ]
     },
     "metadata": {
      "needs_background": "light"
     },
     "output_type": "display_data"
    }
   ],
   "source": [
    "sns.displot(product_wgt_tonn)"
   ]
  },
  {
   "cell_type": "code",
   "execution_count": 17,
   "id": "641e46cd",
   "metadata": {},
   "outputs": [
    {
     "name": "stdout",
     "output_type": "stream",
     "text": [
      "Stat = 0.9700682163238525 and p value is 0.0\n",
      "The data is not normally distributed\n"
     ]
    },
    {
     "name": "stderr",
     "output_type": "stream",
     "text": [
      "C:\\Users\\Shubham Dandak\\anaconda3\\lib\\site-packages\\scipy\\stats\\morestats.py:1760: UserWarning: p-value may not be accurate for N > 5000.\n",
      "  warnings.warn(\"p-value may not be accurate for N > 5000.\")\n"
     ]
    }
   ],
   "source": [
    "from scipy.stats import shapiro\n",
    "stat, p = shapiro(product_wgt_tonn)\n",
    "print('Stat = {} and p value is {}'.format(stat,p))\n",
    "if p>0.05:\n",
    "    print('The data is normally distributed')\n",
    "else:\n",
    "    print('The data is not normally distributed')"
   ]
  },
  {
   "cell_type": "code",
   "execution_count": 18,
   "id": "8df602e1",
   "metadata": {},
   "outputs": [
    {
     "name": "stdout",
     "output_type": "stream",
     "text": [
      "<class 'pandas.core.frame.DataFrame'>\n",
      "RangeIndex: 22150 entries, 0 to 22149\n",
      "Data columns (total 24 columns):\n",
      " #   Column                        Non-Null Count  Dtype  \n",
      "---  ------                        --------------  -----  \n",
      " 0   Ware_house_ID                 22150 non-null  object \n",
      " 1   WH_Manager_ID                 22150 non-null  object \n",
      " 2   Location_type                 22150 non-null  object \n",
      " 3   WH_capacity_size              22150 non-null  object \n",
      " 4   zone                          22150 non-null  object \n",
      " 5   WH_regional_zone              22150 non-null  object \n",
      " 6   num_refill_req_l3m            22150 non-null  int64  \n",
      " 7   transport_issue_l1y           22150 non-null  int64  \n",
      " 8   Competitor_in_mkt             22150 non-null  int64  \n",
      " 9   retail_shop_num               22150 non-null  int64  \n",
      " 10  wh_owner_type                 22150 non-null  object \n",
      " 11  distributor_num               22150 non-null  int64  \n",
      " 12  flood_impacted                22150 non-null  int64  \n",
      " 13  flood_proof                   22150 non-null  int64  \n",
      " 14  electric_supply               22150 non-null  int64  \n",
      " 15  dist_from_hub                 22150 non-null  int64  \n",
      " 16  workers_num                   21273 non-null  float64\n",
      " 17  wh_est_year                   11605 non-null  float64\n",
      " 18  storage_issue_reported_l3m    22150 non-null  int64  \n",
      " 19  temp_reg_mach                 22150 non-null  int64  \n",
      " 20  approved_wh_govt_certificate  21345 non-null  object \n",
      " 21  wh_breakdown_l3m              22150 non-null  int64  \n",
      " 22  govt_check_l3m                22150 non-null  int64  \n",
      " 23  product_wg_ton                22150 non-null  int64  \n",
      "dtypes: float64(2), int64(14), object(8)\n",
      "memory usage: 4.1+ MB\n"
     ]
    }
   ],
   "source": [
    "data.info()"
   ]
  },
  {
   "cell_type": "markdown",
   "id": "c92ac672",
   "metadata": {},
   "source": [
    "## Deriving hypo for numerical columns through correlation"
   ]
  },
  {
   "cell_type": "code",
   "execution_count": 19,
   "id": "98459ef2",
   "metadata": {},
   "outputs": [
    {
     "name": "stdout",
     "output_type": "stream",
     "text": [
      "Stats = 0.003248487075130269 and p value is 0.6287817222614869\n",
      "product weight tonne is independent from Number of refill in last three months\n"
     ]
    }
   ],
   "source": [
    "# Number of refills and product weight tonnes\n",
    "from scipy.stats import spearmanr\n",
    "stat, p = spearmanr(data['num_refill_req_l3m'],data['product_wg_ton'])\n",
    "print('Stats = {} and p value is {}'.format(stat,p))\n",
    "if p>0.05:\n",
    "    print('product weight tonne is independent from Number of refill in last three months')\n",
    "else:\n",
    "    print('product weight tonne is dependent on Number of refill in last three months')"
   ]
  },
  {
   "cell_type": "code",
   "execution_count": 20,
   "id": "2db75619",
   "metadata": {},
   "outputs": [
    {
     "name": "stdout",
     "output_type": "stream",
     "text": [
      "Stats = 0.0006757738058120872 and p value is 0.9198926749298368\n",
      "product weight tonne is independent from Number of refill in last three months\n"
     ]
    }
   ],
   "source": [
    "from scipy.stats import pearsonr\n",
    "stat, p = pearsonr(data['num_refill_req_l3m'],data['product_wg_ton'])\n",
    "print('Stats = {} and p value is {}'.format(stat,p))\n",
    "if p>0.05:\n",
    "    print('product weight tonne is independent from Number of refill in last three months')\n",
    "else:\n",
    "    print('product weight tonne is dependent on Number of refill in last three months')"
   ]
  },
  {
   "cell_type": "markdown",
   "id": "13c7a970",
   "metadata": {},
   "source": [
    "#### transport_issue_l1y and product weight tonn"
   ]
  },
  {
   "cell_type": "code",
   "execution_count": 21,
   "id": "2d7dcdff",
   "metadata": {},
   "outputs": [
    {
     "name": "stdout",
     "output_type": "stream",
     "text": [
      "Stats = -0.17294635880655115 and p value is 2.785620419931492e-148\n",
      "product weight tonne is dependent on Transport issues in last one year\n"
     ]
    }
   ],
   "source": [
    "stat, p = spearmanr(data['transport_issue_l1y'],data['product_wg_ton'])\n",
    "print('Stats = {} and p value is {}'.format(stat,p))\n",
    "if p>0.05:\n",
    "    print('product weight tonne is independent from Transport issues in last one year')\n",
    "else:\n",
    "    print('product weight tonne is dependent on Transport issues in last one year')"
   ]
  },
  {
   "cell_type": "code",
   "execution_count": 22,
   "id": "00ab96fb",
   "metadata": {},
   "outputs": [
    {
     "name": "stdout",
     "output_type": "stream",
     "text": [
      "Stats = -0.1757460027001448 and p value is 3.9426614757023443e-153\n",
      "product weight tonne is dependent on Transport issues in last one year\n"
     ]
    }
   ],
   "source": [
    "stat, p = pearsonr(data['transport_issue_l1y'],data['product_wg_ton'])\n",
    "print('Stats = {} and p value is {}'.format(stat,p))\n",
    "if p>0.05:\n",
    "    print('product weight tonne is independent from Transport issues')\n",
    "else:\n",
    "    print('product weight tonne is dependent on Transport issues in last one year')"
   ]
  },
  {
   "cell_type": "markdown",
   "id": "05a64d1b",
   "metadata": {},
   "source": [
    "### Competitor_in_mkt and product weight tonn"
   ]
  },
  {
   "cell_type": "code",
   "execution_count": 23,
   "id": "9bfe7034",
   "metadata": {},
   "outputs": [
    {
     "name": "stdout",
     "output_type": "stream",
     "text": [
      "Stats = 0.00836239462535314 and p value is 0.21330958603164005\n",
      "product weight tonne is independent from Number of competitor\n"
     ]
    }
   ],
   "source": [
    "stat, p = spearmanr(data['Competitor_in_mkt'],data['product_wg_ton'])\n",
    "print('Stats = {} and p value is {}'.format(stat,p))\n",
    "if p>0.05:\n",
    "    print('product weight tonne is independent from Number of competitor')\n",
    "else:\n",
    "    print('product weight tonne is dependent on Number of competitor')"
   ]
  },
  {
   "cell_type": "code",
   "execution_count": 24,
   "id": "eb4a34a6",
   "metadata": {},
   "outputs": [
    {
     "name": "stdout",
     "output_type": "stream",
     "text": [
      "Stats = 0.00728200403527571 and p value is 0.2784868184128177\n",
      "product weight tonne is independent from Number of competitor\n"
     ]
    }
   ],
   "source": [
    "stat, p = pearsonr(data['Competitor_in_mkt'],data['product_wg_ton'])\n",
    "print('Stats = {} and p value is {}'.format(stat,p))\n",
    "if p>0.05:\n",
    "    print('product weight tonne is independent from Number of competitor')\n",
    "else:\n",
    "    print('product weight tonne is dependent on Number of competitor')"
   ]
  },
  {
   "cell_type": "markdown",
   "id": "a504bfc1",
   "metadata": {},
   "source": [
    "### retail_shop_num and product weight tonnes"
   ]
  },
  {
   "cell_type": "code",
   "execution_count": 25,
   "id": "8b952e07",
   "metadata": {},
   "outputs": [
    {
     "name": "stdout",
     "output_type": "stream",
     "text": [
      "Stats = -0.007814421629605738 and p value is 0.24484459310846254\n",
      "product weight tonne is independent from Retail shop number\n"
     ]
    }
   ],
   "source": [
    "stat, p = spearmanr(data['retail_shop_num'],data['product_wg_ton'])\n",
    "print('Stats = {} and p value is {}'.format(stat,p))\n",
    "if p>0.05:\n",
    "    print('product weight tonne is independent from Retail shop number')\n",
    "else:\n",
    "    print('product weight tonne is dependent on Retail shop number')"
   ]
  },
  {
   "cell_type": "code",
   "execution_count": 26,
   "id": "a5112f60",
   "metadata": {},
   "outputs": [
    {
     "name": "stdout",
     "output_type": "stream",
     "text": [
      "Stats = -0.006785298435100314 and p value is 0.3125900710561325\n",
      "product weight tonne is independent from Retail shop number\n"
     ]
    }
   ],
   "source": [
    "stat, p = pearsonr(data['retail_shop_num'],data['product_wg_ton'])\n",
    "print('Stats = {} and p value is {}'.format(stat,p))\n",
    "if p>0.05:\n",
    "    print('product weight tonne is independent from Retail shop number')\n",
    "else:\n",
    "    print('product weight tonne is dependent on Retail shop number')"
   ]
  },
  {
   "cell_type": "markdown",
   "id": "3b23a576",
   "metadata": {},
   "source": [
    "## distributor_num and product weight tonnes"
   ]
  },
  {
   "cell_type": "code",
   "execution_count": 27,
   "id": "603b8246",
   "metadata": {},
   "outputs": [
    {
     "name": "stdout",
     "output_type": "stream",
     "text": [
      "Stats = 0.00541053360982928 and p value is 0.4207022797001365\n",
      "product weight tonne is independent from Distributor number\n"
     ]
    }
   ],
   "source": [
    "stat, p = spearmanr(data['distributor_num'],data['product_wg_ton'])\n",
    "print('Stats = {} and p value is {}'.format(stat,p))\n",
    "if p>0.05:\n",
    "    print('product weight tonne is independent from Distributor number')\n",
    "else:\n",
    "    print('product weight tonne is dependent on Distributor number')"
   ]
  },
  {
   "cell_type": "code",
   "execution_count": 28,
   "id": "091ae700",
   "metadata": {},
   "outputs": [
    {
     "name": "stdout",
     "output_type": "stream",
     "text": [
      "Stats = 0.005142895181674207 and p value is 0.4440497152204103\n",
      "product weight tonne is independent from Distributor number\n"
     ]
    }
   ],
   "source": [
    "stat, p = pearsonr(data['distributor_num'],data['product_wg_ton'])\n",
    "print('Stats = {} and p value is {}'.format(stat,p))\n",
    "if p>0.05:\n",
    "    print('product weight tonne is independent from Distributor number')\n",
    "else:\n",
    "    print('product weight tonne is dependent on Distributor number')"
   ]
  },
  {
   "cell_type": "markdown",
   "id": "5d304d9b",
   "metadata": {},
   "source": [
    "### flood_impacted and product weight tonnes"
   ]
  },
  {
   "cell_type": "code",
   "execution_count": 29,
   "id": "e6d47481",
   "metadata": {},
   "outputs": [
    {
     "name": "stdout",
     "output_type": "stream",
     "text": [
      "Stats = -0.004671303312233556 and p value is 0.4869369651172233\n",
      "product weight tonne is independent from flood_impacted column\n"
     ]
    }
   ],
   "source": [
    "stat, p = spearmanr(data['flood_impacted'],data['product_wg_ton'])\n",
    "print('Stats = {} and p value is {}'.format(stat,p))\n",
    "if p>0.05:\n",
    "    print('product weight tonne is independent from flood_impacted column')\n",
    "else:\n",
    "    print('product weight tonne is dependent on flood_impacted column')"
   ]
  },
  {
   "cell_type": "code",
   "execution_count": 30,
   "id": "10f5df35",
   "metadata": {},
   "outputs": [
    {
     "name": "stdout",
     "output_type": "stream",
     "text": [
      "Stats = -0.00505528832615786 and p value is 0.4518498395140295\n",
      "product weight tonne is independent from flood_impacted column\n"
     ]
    }
   ],
   "source": [
    "stat, p = pearsonr(data['flood_impacted'],data['product_wg_ton'])\n",
    "print('Stats = {} and p value is {}'.format(stat,p))\n",
    "if p>0.05:\n",
    "    print('product weight tonne is independent from flood_impacted column')\n",
    "else:\n",
    "    print('product weight tonne is dependent on flood_impacted column')"
   ]
  },
  {
   "cell_type": "markdown",
   "id": "ba07722d",
   "metadata": {},
   "source": [
    "## flood_proof and product weight tonnes"
   ]
  },
  {
   "cell_type": "code",
   "execution_count": 31,
   "id": "c7dd6c76",
   "metadata": {},
   "outputs": [
    {
     "name": "stdout",
     "output_type": "stream",
     "text": [
      "Stats = -0.0028640516768882653 and p value is 0.6699402009510035\n",
      "product weight tonne is independent from flood proof column\n"
     ]
    }
   ],
   "source": [
    "stat, p = spearmanr(data['flood_proof'],data['product_wg_ton'])\n",
    "print('Stats = {} and p value is {}'.format(stat,p))\n",
    "if p>0.05:\n",
    "    print('product weight tonne is independent from flood proof column')\n",
    "else:\n",
    "    print('product weight tonne is dependent on flood proof column')"
   ]
  },
  {
   "cell_type": "code",
   "execution_count": 32,
   "id": "e1da4dc1",
   "metadata": {},
   "outputs": [
    {
     "name": "stdout",
     "output_type": "stream",
     "text": [
      "Stats = -0.003566854275099028 and p value is 0.5955419730909218\n",
      "product weight tonne is independent from flood proof column\n"
     ]
    }
   ],
   "source": [
    "stat, p = pearsonr(data['flood_proof'],data['product_wg_ton'])\n",
    "print('Stats = {} and p value is {}'.format(stat,p))\n",
    "if p>0.05:\n",
    "    print('product weight tonne is independent from flood proof column')\n",
    "else:\n",
    "    print('product weight tonne is dependent on flood proof column')"
   ]
  },
  {
   "cell_type": "markdown",
   "id": "268ea51c",
   "metadata": {},
   "source": [
    "## electric_supply and product weight tonnes"
   ]
  },
  {
   "cell_type": "code",
   "execution_count": 33,
   "id": "d80dd718",
   "metadata": {},
   "outputs": [
    {
     "name": "stdout",
     "output_type": "stream",
     "text": [
      "Stats = 0.0001583826390500219 and p value is 0.9811951539444607\n",
      "product weight tonne is independent from electric_supply column\n"
     ]
    }
   ],
   "source": [
    "stat, p = spearmanr(data['electric_supply'],data['product_wg_ton'])\n",
    "print('Stats = {} and p value is {}'.format(stat,p))\n",
    "if p>0.05:\n",
    "    print('product weight tonne is independent from electric_supply column')\n",
    "else:\n",
    "    print('product weight tonne is dependent on electric_supply column')"
   ]
  },
  {
   "cell_type": "code",
   "execution_count": 34,
   "id": "e979ac02",
   "metadata": {},
   "outputs": [
    {
     "name": "stdout",
     "output_type": "stream",
     "text": [
      "Stats = -0.0007254989361473295 and p value is 0.9140202604892228\n",
      "product weight tonne is independent from electric_supply column\n"
     ]
    }
   ],
   "source": [
    "stat, p = pearsonr(data['electric_supply'],data['product_wg_ton'])\n",
    "print('Stats = {} and p value is {}'.format(stat,p))\n",
    "if p>0.05:\n",
    "    print('product weight tonne is independent from electric_supply column')\n",
    "else:\n",
    "    print('product weight tonne is dependent on electric_supply column')"
   ]
  },
  {
   "cell_type": "markdown",
   "id": "3bdfc5ba",
   "metadata": {},
   "source": [
    "## dist_from_hub and product weight tonnes"
   ]
  },
  {
   "cell_type": "code",
   "execution_count": 35,
   "id": "d8c690ca",
   "metadata": {},
   "outputs": [
    {
     "name": "stdout",
     "output_type": "stream",
     "text": [
      "Stats = -0.006643105358035398 and p value is 0.3228391865901793\n",
      "product weight tonne is independent from dist_from_hub column\n"
     ]
    }
   ],
   "source": [
    "stat, p = spearmanr(data['dist_from_hub'],data['product_wg_ton'])\n",
    "print('Stats = {} and p value is {}'.format(stat,p))\n",
    "if p>0.05:\n",
    "    print('product weight tonne is independent from dist_from_hub column')\n",
    "else:\n",
    "    print('product weight tonne is dependent on dist_from_hub column')"
   ]
  },
  {
   "cell_type": "code",
   "execution_count": 36,
   "id": "9cf56a22",
   "metadata": {},
   "outputs": [
    {
     "name": "stdout",
     "output_type": "stream",
     "text": [
      "Stats = -0.006040010872175413 and p value is 0.368714025054693\n",
      "product weight tonne is independent from dist_from_hub column\n"
     ]
    }
   ],
   "source": [
    "stat, p = pearsonr(data['dist_from_hub'],data['product_wg_ton'])\n",
    "print('Stats = {} and p value is {}'.format(stat,p))\n",
    "if p>0.05:\n",
    "    print('product weight tonne is independent from dist_from_hub column')\n",
    "else:\n",
    "    print('product weight tonne is dependent on dist_from_hub column')"
   ]
  },
  {
   "cell_type": "markdown",
   "id": "3b2517d7",
   "metadata": {},
   "source": [
    "## storage_issue_reported_l3m and product weight tonnes"
   ]
  },
  {
   "cell_type": "code",
   "execution_count": 37,
   "id": "53fd43e8",
   "metadata": {},
   "outputs": [
    {
     "name": "stdout",
     "output_type": "stream",
     "text": [
      "Stats = 0.9891979389979685 and p value is 0.0\n",
      "product weight tonne is dependent on storage_issue_reported_last_3_month column\n"
     ]
    }
   ],
   "source": [
    "stat, p = spearmanr(data['storage_issue_reported_l3m'],data['product_wg_ton'])\n",
    "print('Stats = {} and p value is {}'.format(stat,p))\n",
    "if p>0.05:\n",
    "    print('product weight tonne is independent from storage_issue_reported_last_3_month column')\n",
    "else:\n",
    "    print('product weight tonne is dependent on storage_issue_reported_last_3_month column')"
   ]
  },
  {
   "cell_type": "code",
   "execution_count": 38,
   "id": "6d8d40e0",
   "metadata": {},
   "outputs": [
    {
     "name": "stdout",
     "output_type": "stream",
     "text": [
      "Stats = 0.9867962159396109 and p value is 0.0\n",
      "product weight tonne is dependent on storage_issue_reported_last_3_month column\n"
     ]
    }
   ],
   "source": [
    "stat, p = pearsonr(data['storage_issue_reported_l3m'],data['product_wg_ton'])\n",
    "print('Stats = {} and p value is {}'.format(stat,p))\n",
    "if p>0.05:\n",
    "    print('product weight tonne is independent from storage_issue_reported_last_3_month column')\n",
    "else:\n",
    "    print('product weight tonne is dependent on storage_issue_reported_last_3_month column')"
   ]
  },
  {
   "cell_type": "markdown",
   "id": "b3890213",
   "metadata": {},
   "source": [
    "## temp_reg_mach and product weight tonnes"
   ]
  },
  {
   "cell_type": "code",
   "execution_count": 39,
   "id": "007deab4",
   "metadata": {},
   "outputs": [
    {
     "name": "stdout",
     "output_type": "stream",
     "text": [
      "Stats = 0.09330691213376104 and p value is 5.040959912047187e-44\n",
      "product weight tonne is dependent on temp_reg_mach column\n"
     ]
    }
   ],
   "source": [
    "stat, p = spearmanr(data['temp_reg_mach'],data['product_wg_ton'])\n",
    "print('Stats = {} and p value is {}'.format(stat,p))\n",
    "if p>0.05:\n",
    "    print('product weight tonne is independent from temp_reg_mach column')\n",
    "else:\n",
    "    print('product weight tonne is dependent on temp_reg_mach column')"
   ]
  },
  {
   "cell_type": "code",
   "execution_count": 40,
   "id": "f3726509",
   "metadata": {},
   "outputs": [
    {
     "name": "stdout",
     "output_type": "stream",
     "text": [
      "Stats = 0.09845204214265105 and p value is 7.768156123626193e-49\n",
      "product weight tonne is dependent on temp_reg_mach column\n"
     ]
    }
   ],
   "source": [
    "stat, p = pearsonr(data['temp_reg_mach'],data['product_wg_ton'])\n",
    "print('Stats = {} and p value is {}'.format(stat,p))\n",
    "if p>0.05:\n",
    "    print('product weight tonne is independent from temp_reg_mach column')\n",
    "else:\n",
    "    print('product weight tonne is dependent on temp_reg_mach column')"
   ]
  },
  {
   "cell_type": "markdown",
   "id": "b06ce53f",
   "metadata": {},
   "source": [
    "## wh_breakdown_l3m and product weight tonnes"
   ]
  },
  {
   "cell_type": "code",
   "execution_count": 41,
   "id": "7eb61598",
   "metadata": {},
   "outputs": [
    {
     "name": "stdout",
     "output_type": "stream",
     "text": [
      "Stats = 0.34046029272939576 and p value is 0.0\n",
      "product weight tonne is dependent on wh_breakdown_l3m\n"
     ]
    }
   ],
   "source": [
    "stat, p = spearmanr(data['wh_breakdown_l3m'],data['product_wg_ton'])\n",
    "print('Stats = {} and p value is {}'.format(stat,p))\n",
    "if p>0.05:\n",
    "    print('product weight tonne is independent from wh_breakdown_l3m')\n",
    "else:\n",
    "    print('product weight tonne is dependent on wh_breakdown_l3m')"
   ]
  },
  {
   "cell_type": "code",
   "execution_count": 42,
   "id": "9590ba98",
   "metadata": {},
   "outputs": [
    {
     "name": "stdout",
     "output_type": "stream",
     "text": [
      "Stats = 0.3436766901033246 and p value is 0.0\n",
      "product weight tonne is dependent on wh_breakdown_l3m\n"
     ]
    }
   ],
   "source": [
    "stat, p = pearsonr(data['wh_breakdown_l3m'],data['product_wg_ton'])\n",
    "print('Stats = {} and p value is {}'.format(stat,p))\n",
    "if p>0.05:\n",
    "    print('product weight tonne is independent from wh_breakdown_l3m')\n",
    "else:\n",
    "    print('product weight tonne is dependent on wh_breakdown_l3m')"
   ]
  },
  {
   "cell_type": "markdown",
   "id": "5fab9563",
   "metadata": {},
   "source": [
    "## govt_check_l3m and product weight tonnes"
   ]
  },
  {
   "cell_type": "code",
   "execution_count": 43,
   "id": "c07ee884",
   "metadata": {},
   "outputs": [
    {
     "name": "stdout",
     "output_type": "stream",
     "text": [
      "Stats = -0.011895669084213516 and p value is 0.07666379146085003\n",
      "product weight tonne is independent from govt_check_l3m\n"
     ]
    }
   ],
   "source": [
    "stat, p = spearmanr(data['govt_check_l3m'],data['product_wg_ton'])\n",
    "print('Stats = {} and p value is {}'.format(stat,p))\n",
    "if p>0.05:\n",
    "    print('product weight tonne is independent from govt_check_l3m')\n",
    "else:\n",
    "    print('product weight tonne is dependent on govt_check_l3m')"
   ]
  },
  {
   "cell_type": "code",
   "execution_count": 44,
   "id": "44dc6c92",
   "metadata": {},
   "outputs": [
    {
     "name": "stdout",
     "output_type": "stream",
     "text": [
      "Stats = -0.011976925026861072 and p value is 0.07467192869327043\n",
      "product weight tonne is independent from govt_check_l3m\n"
     ]
    }
   ],
   "source": [
    "stat, p = pearsonr(data['govt_check_l3m'],data['product_wg_ton'])\n",
    "print('Stats = {} and p value is {}'.format(stat,p))\n",
    "if p>0.05:\n",
    "    print('product weight tonne is independent from govt_check_l3m')\n",
    "else:\n",
    "    print('product weight tonne is dependent on govt_check_l3m')"
   ]
  },
  {
   "cell_type": "markdown",
   "id": "2891494f",
   "metadata": {},
   "source": [
    "# Now let us build hypothesis on dependent (numerical) and independent (categorical) columns"
   ]
  },
  {
   "cell_type": "code",
   "execution_count": 45,
   "id": "8c3cf6b2",
   "metadata": {},
   "outputs": [],
   "source": [
    "# Anova test assumptions: Normal distribution, same variance, identical distribution and when we have more than 2 categories in our column\n",
    "# T-Test: When we have 2 categories in the categorical column\n",
    "from scipy.stats import ttest_ind\n"
   ]
  },
  {
   "cell_type": "code",
   "execution_count": 46,
   "id": "3b698705",
   "metadata": {},
   "outputs": [
    {
     "name": "stdout",
     "output_type": "stream",
     "text": [
      "<class 'pandas.core.frame.DataFrame'>\n",
      "RangeIndex: 22150 entries, 0 to 22149\n",
      "Data columns (total 24 columns):\n",
      " #   Column                        Non-Null Count  Dtype  \n",
      "---  ------                        --------------  -----  \n",
      " 0   Ware_house_ID                 22150 non-null  object \n",
      " 1   WH_Manager_ID                 22150 non-null  object \n",
      " 2   Location_type                 22150 non-null  object \n",
      " 3   WH_capacity_size              22150 non-null  object \n",
      " 4   zone                          22150 non-null  object \n",
      " 5   WH_regional_zone              22150 non-null  object \n",
      " 6   num_refill_req_l3m            22150 non-null  int64  \n",
      " 7   transport_issue_l1y           22150 non-null  int64  \n",
      " 8   Competitor_in_mkt             22150 non-null  int64  \n",
      " 9   retail_shop_num               22150 non-null  int64  \n",
      " 10  wh_owner_type                 22150 non-null  object \n",
      " 11  distributor_num               22150 non-null  int64  \n",
      " 12  flood_impacted                22150 non-null  int64  \n",
      " 13  flood_proof                   22150 non-null  int64  \n",
      " 14  electric_supply               22150 non-null  int64  \n",
      " 15  dist_from_hub                 22150 non-null  int64  \n",
      " 16  workers_num                   21273 non-null  float64\n",
      " 17  wh_est_year                   11605 non-null  float64\n",
      " 18  storage_issue_reported_l3m    22150 non-null  int64  \n",
      " 19  temp_reg_mach                 22150 non-null  int64  \n",
      " 20  approved_wh_govt_certificate  21345 non-null  object \n",
      " 21  wh_breakdown_l3m              22150 non-null  int64  \n",
      " 22  govt_check_l3m                22150 non-null  int64  \n",
      " 23  product_wg_ton                22150 non-null  int64  \n",
      "dtypes: float64(2), int64(14), object(8)\n",
      "memory usage: 4.1+ MB\n"
     ]
    }
   ],
   "source": [
    "data.info()"
   ]
  },
  {
   "cell_type": "code",
   "execution_count": 47,
   "id": "f4cfe888",
   "metadata": {},
   "outputs": [
    {
     "ename": "TypeError",
     "evalue": "unsupported operand type(s) for /: 'str' and 'int'",
     "output_type": "error",
     "traceback": [
      "\u001b[1;31m---------------------------------------------------------------------------\u001b[0m",
      "\u001b[1;31mTypeError\u001b[0m                                 Traceback (most recent call last)",
      "Input \u001b[1;32mIn [47]\u001b[0m, in \u001b[0;36m<cell line: 1>\u001b[1;34m()\u001b[0m\n\u001b[1;32m----> 1\u001b[0m \u001b[43mttest_ind\u001b[49m\u001b[43m(\u001b[49m\u001b[43mdata\u001b[49m\u001b[43m[\u001b[49m\u001b[38;5;124;43m'\u001b[39;49m\u001b[38;5;124;43mLocation_type\u001b[39;49m\u001b[38;5;124;43m'\u001b[39;49m\u001b[43m]\u001b[49m\u001b[43m,\u001b[49m\u001b[43mdata\u001b[49m\u001b[43m[\u001b[49m\u001b[38;5;124;43m'\u001b[39;49m\u001b[38;5;124;43mproduct_wg_ton\u001b[39;49m\u001b[38;5;124;43m'\u001b[39;49m\u001b[43m]\u001b[49m\u001b[43m)\u001b[49m\n",
      "File \u001b[1;32m~\\anaconda3\\lib\\site-packages\\scipy\\stats\\stats.py:6133\u001b[0m, in \u001b[0;36mttest_ind\u001b[1;34m(a, b, axis, equal_var, nan_policy, permutations, random_state, alternative, trim)\u001b[0m\n\u001b[0;32m   6130\u001b[0m n2 \u001b[38;5;241m=\u001b[39m b\u001b[38;5;241m.\u001b[39mshape[axis]\n\u001b[0;32m   6132\u001b[0m \u001b[38;5;28;01mif\u001b[39;00m trim \u001b[38;5;241m==\u001b[39m \u001b[38;5;241m0\u001b[39m:\n\u001b[1;32m-> 6133\u001b[0m     v1 \u001b[38;5;241m=\u001b[39m \u001b[43mnp\u001b[49m\u001b[38;5;241;43m.\u001b[39;49m\u001b[43mvar\u001b[49m\u001b[43m(\u001b[49m\u001b[43ma\u001b[49m\u001b[43m,\u001b[49m\u001b[43m \u001b[49m\u001b[43maxis\u001b[49m\u001b[43m,\u001b[49m\u001b[43m \u001b[49m\u001b[43mddof\u001b[49m\u001b[38;5;241;43m=\u001b[39;49m\u001b[38;5;241;43m1\u001b[39;49m\u001b[43m)\u001b[49m\n\u001b[0;32m   6134\u001b[0m     v2 \u001b[38;5;241m=\u001b[39m np\u001b[38;5;241m.\u001b[39mvar(b, axis, ddof\u001b[38;5;241m=\u001b[39m\u001b[38;5;241m1\u001b[39m)\n\u001b[0;32m   6135\u001b[0m     m1 \u001b[38;5;241m=\u001b[39m np\u001b[38;5;241m.\u001b[39mmean(a, axis)\n",
      "File \u001b[1;32m<__array_function__ internals>:5\u001b[0m, in \u001b[0;36mvar\u001b[1;34m(*args, **kwargs)\u001b[0m\n",
      "File \u001b[1;32m~\\anaconda3\\lib\\site-packages\\numpy\\core\\fromnumeric.py:3723\u001b[0m, in \u001b[0;36mvar\u001b[1;34m(a, axis, dtype, out, ddof, keepdims, where)\u001b[0m\n\u001b[0;32m   3720\u001b[0m     \u001b[38;5;28;01melse\u001b[39;00m:\n\u001b[0;32m   3721\u001b[0m         \u001b[38;5;28;01mreturn\u001b[39;00m var(axis\u001b[38;5;241m=\u001b[39maxis, dtype\u001b[38;5;241m=\u001b[39mdtype, out\u001b[38;5;241m=\u001b[39mout, ddof\u001b[38;5;241m=\u001b[39mddof, \u001b[38;5;241m*\u001b[39m\u001b[38;5;241m*\u001b[39mkwargs)\n\u001b[1;32m-> 3723\u001b[0m \u001b[38;5;28;01mreturn\u001b[39;00m _methods\u001b[38;5;241m.\u001b[39m_var(a, axis\u001b[38;5;241m=\u001b[39maxis, dtype\u001b[38;5;241m=\u001b[39mdtype, out\u001b[38;5;241m=\u001b[39mout, ddof\u001b[38;5;241m=\u001b[39mddof,\n\u001b[0;32m   3724\u001b[0m                      \u001b[38;5;241m*\u001b[39m\u001b[38;5;241m*\u001b[39mkwargs)\n",
      "File \u001b[1;32m~\\anaconda3\\lib\\site-packages\\numpy\\core\\_methods.py:222\u001b[0m, in \u001b[0;36m_var\u001b[1;34m(a, axis, dtype, out, ddof, keepdims, where)\u001b[0m\n\u001b[0;32m    220\u001b[0m     div \u001b[38;5;241m=\u001b[39m rcount\u001b[38;5;241m.\u001b[39mreshape(arrmean\u001b[38;5;241m.\u001b[39mshape)\n\u001b[0;32m    221\u001b[0m \u001b[38;5;28;01mif\u001b[39;00m \u001b[38;5;28misinstance\u001b[39m(arrmean, mu\u001b[38;5;241m.\u001b[39mndarray):\n\u001b[1;32m--> 222\u001b[0m     arrmean \u001b[38;5;241m=\u001b[39m \u001b[43mum\u001b[49m\u001b[38;5;241;43m.\u001b[39;49m\u001b[43mtrue_divide\u001b[49m\u001b[43m(\u001b[49m\u001b[43marrmean\u001b[49m\u001b[43m,\u001b[49m\u001b[43m \u001b[49m\u001b[43mdiv\u001b[49m\u001b[43m,\u001b[49m\u001b[43m \u001b[49m\u001b[43mout\u001b[49m\u001b[38;5;241;43m=\u001b[39;49m\u001b[43marrmean\u001b[49m\u001b[43m,\u001b[49m\u001b[43m \u001b[49m\u001b[43mcasting\u001b[49m\u001b[38;5;241;43m=\u001b[39;49m\u001b[38;5;124;43m'\u001b[39;49m\u001b[38;5;124;43munsafe\u001b[39;49m\u001b[38;5;124;43m'\u001b[39;49m\u001b[43m,\u001b[49m\n\u001b[0;32m    223\u001b[0m \u001b[43m                             \u001b[49m\u001b[43msubok\u001b[49m\u001b[38;5;241;43m=\u001b[39;49m\u001b[38;5;28;43;01mFalse\u001b[39;49;00m\u001b[43m)\u001b[49m\n\u001b[0;32m    224\u001b[0m \u001b[38;5;28;01melse\u001b[39;00m:\n\u001b[0;32m    225\u001b[0m     arrmean \u001b[38;5;241m=\u001b[39m arrmean\u001b[38;5;241m.\u001b[39mdtype\u001b[38;5;241m.\u001b[39mtype(arrmean \u001b[38;5;241m/\u001b[39m rcount)\n",
      "\u001b[1;31mTypeError\u001b[0m: unsupported operand type(s) for /: 'str' and 'int'"
     ]
    }
   ],
   "source": [
    "ttest_ind(data['Location_type'],data['product_wg_ton'])"
   ]
  },
  {
   "cell_type": "code",
   "execution_count": null,
   "id": "05e7013d",
   "metadata": {},
   "outputs": [],
   "source": [
    "data['Location_type'] = data['Location_type'].map({'Rural':0,'Urban':1})"
   ]
  },
  {
   "cell_type": "code",
   "execution_count": null,
   "id": "31898bbe",
   "metadata": {},
   "outputs": [],
   "source": [
    "stat, p = spearmanr(data['Location_type'],data['product_wg_ton'])\n",
    "print('Stats = {} and p value is {}'.format(stat,p))\n",
    "if p>0.05:\n",
    "    print('product weight tonne is independent from Location_type')\n",
    "else:\n",
    "    print('product weight tonne is dependent on Location_type')"
   ]
  },
  {
   "cell_type": "code",
   "execution_count": 50,
   "id": "90c2c89c",
   "metadata": {},
   "outputs": [
    {
     "ename": "TypeError",
     "evalue": "unsupported operand type(s) for +: 'float' and 'str'",
     "output_type": "error",
     "traceback": [
      "\u001b[1;31m---------------------------------------------------------------------------\u001b[0m",
      "\u001b[1;31mTypeError\u001b[0m                                 Traceback (most recent call last)",
      "Input \u001b[1;32mIn [50]\u001b[0m, in \u001b[0;36m<cell line: 1>\u001b[1;34m()\u001b[0m\n\u001b[1;32m----> 1\u001b[0m stat, p \u001b[38;5;241m=\u001b[39m \u001b[43mpearsonr\u001b[49m\u001b[43m(\u001b[49m\u001b[43mdata\u001b[49m\u001b[43m[\u001b[49m\u001b[38;5;124;43m'\u001b[39;49m\u001b[38;5;124;43mLocation_type\u001b[39;49m\u001b[38;5;124;43m'\u001b[39;49m\u001b[43m]\u001b[49m\u001b[43m,\u001b[49m\u001b[43mdata\u001b[49m\u001b[43m[\u001b[49m\u001b[38;5;124;43m'\u001b[39;49m\u001b[38;5;124;43mproduct_wg_ton\u001b[39;49m\u001b[38;5;124;43m'\u001b[39;49m\u001b[43m]\u001b[49m\u001b[43m)\u001b[49m\n\u001b[0;32m      2\u001b[0m \u001b[38;5;28mprint\u001b[39m(\u001b[38;5;124m'\u001b[39m\u001b[38;5;124mStats = \u001b[39m\u001b[38;5;132;01m{}\u001b[39;00m\u001b[38;5;124m and p value is \u001b[39m\u001b[38;5;132;01m{}\u001b[39;00m\u001b[38;5;124m'\u001b[39m\u001b[38;5;241m.\u001b[39mformat(stat,p))\n\u001b[0;32m      3\u001b[0m \u001b[38;5;28;01mif\u001b[39;00m p\u001b[38;5;241m>\u001b[39m\u001b[38;5;241m0.05\u001b[39m:\n",
      "File \u001b[1;32m~\\anaconda3\\lib\\site-packages\\scipy\\stats\\stats.py:4029\u001b[0m, in \u001b[0;36mpearsonr\u001b[1;34m(x, y)\u001b[0m\n\u001b[0;32m   4024\u001b[0m     \u001b[38;5;28;01mreturn\u001b[39;00m np\u001b[38;5;241m.\u001b[39mnan, np\u001b[38;5;241m.\u001b[39mnan\n\u001b[0;32m   4026\u001b[0m \u001b[38;5;66;03m# dtype is the data type for the calculations.  This expression ensures\u001b[39;00m\n\u001b[0;32m   4027\u001b[0m \u001b[38;5;66;03m# that the data type is at least 64 bit floating point.  It might have\u001b[39;00m\n\u001b[0;32m   4028\u001b[0m \u001b[38;5;66;03m# more precision if the input is, for example, np.longdouble.\u001b[39;00m\n\u001b[1;32m-> 4029\u001b[0m dtype \u001b[38;5;241m=\u001b[39m \u001b[38;5;28mtype\u001b[39m(\u001b[38;5;241;43m1.0\u001b[39;49m\u001b[43m \u001b[49m\u001b[38;5;241;43m+\u001b[39;49m\u001b[43m \u001b[49m\u001b[43mx\u001b[49m\u001b[43m[\u001b[49m\u001b[38;5;241;43m0\u001b[39;49m\u001b[43m]\u001b[49m \u001b[38;5;241m+\u001b[39m y[\u001b[38;5;241m0\u001b[39m])\n\u001b[0;32m   4031\u001b[0m \u001b[38;5;28;01mif\u001b[39;00m n \u001b[38;5;241m==\u001b[39m \u001b[38;5;241m2\u001b[39m:\n\u001b[0;32m   4032\u001b[0m     \u001b[38;5;28;01mreturn\u001b[39;00m dtype(np\u001b[38;5;241m.\u001b[39msign(x[\u001b[38;5;241m1\u001b[39m] \u001b[38;5;241m-\u001b[39m x[\u001b[38;5;241m0\u001b[39m])\u001b[38;5;241m*\u001b[39mnp\u001b[38;5;241m.\u001b[39msign(y[\u001b[38;5;241m1\u001b[39m] \u001b[38;5;241m-\u001b[39m y[\u001b[38;5;241m0\u001b[39m])), \u001b[38;5;241m1.0\u001b[39m\n",
      "\u001b[1;31mTypeError\u001b[0m: unsupported operand type(s) for +: 'float' and 'str'"
     ]
    }
   ],
   "source": [
    "stat, p = pearsonr(data['Location_type'],data['product_wg_ton'])\n",
    "print('Stats = {} and p value is {}'.format(stat,p))\n",
    "if p>0.05:\n",
    "    print('product weight tonne is independent from Location_type')\n",
    "else:\n",
    "    print('product weight tonne is dependent on Location_type')"
   ]
  },
  {
   "cell_type": "code",
   "execution_count": 48,
   "id": "e8f79582",
   "metadata": {},
   "outputs": [],
   "source": [
    "from sklearn.preprocessing import LabelEncoder\n",
    "le = LabelEncoder()\n",
    "data['approved_wh_govt_certificate']=le.fit_transform(data['approved_wh_govt_certificate'])"
   ]
  },
  {
   "cell_type": "code",
   "execution_count": 49,
   "id": "30efc6fd",
   "metadata": {},
   "outputs": [
    {
     "name": "stdout",
     "output_type": "stream",
     "text": [
      "Stats = -0.2261561358825812 and p value is 7.542961087692836e-255\n",
      "approved_wh_govt_certificate is dependent on govt_check_l3m\n"
     ]
    }
   ],
   "source": [
    "stat, p = pearsonr(data['approved_wh_govt_certificate'],data['product_wg_ton'])\n",
    "print('Stats = {} and p value is {}'.format(stat,p))\n",
    "if p>0.05:\n",
    "    print('approved_wh_govt_certificate is independent from govt_check_l3m')\n",
    "else:\n",
    "    print('approved_wh_govt_certificate is dependent on govt_check_l3m')"
   ]
  },
  {
   "cell_type": "code",
   "execution_count": 51,
   "id": "459c8123",
   "metadata": {},
   "outputs": [
    {
     "name": "stdout",
     "output_type": "stream",
     "text": [
      "Stats = -0.011976925026861072 and p value is 0.07467192869327043\n",
      "approved_wh_govt_certificate is independent from govt_check_l3m\n"
     ]
    }
   ],
   "source": [
    "stat, p = pearsonr(data['govt_check_l3m'],data['product_wg_ton'])\n",
    "print('Stats = {} and p value is {}'.format(stat,p))\n",
    "if p>0.05:\n",
    "    print('approved_wh_govt_certificate is independent from govt_check_l3m')\n",
    "else:\n",
    "    print('approved_wh_govt_certificate is dependent on govt_check_l3m')"
   ]
  },
  {
   "cell_type": "code",
   "execution_count": 59,
   "id": "9d14b197",
   "metadata": {},
   "outputs": [
    {
     "name": "stdout",
     "output_type": "stream",
     "text": [
      "stat=0.34, p=0.00000000000000000000\n",
      "approved_wh_govt_certificate is dependent on govt_check_l3m\n"
     ]
    }
   ],
   "source": [
    "stat, p = pearsonr(data['wh_breakdown_l3m'],data['product_wg_ton'])\n",
    "print('stat=%.2f, p=%.20f' %(stat,p))\n",
    "if p>0.05:\n",
    "    print('approved_wh_govt_certificate is independent from govt_check_l3m')\n",
    "else:\n",
    "    print('approved_wh_govt_certificate is dependent on govt_check_l3m')"
   ]
  },
  {
   "cell_type": "code",
   "execution_count": 58,
   "id": "7bd929a4",
   "metadata": {},
   "outputs": [
    {
     "name": "stdout",
     "output_type": "stream",
     "text": [
      "stat=0.99, p=0.00000000000000000000\n",
      "approved_wh_govt_certificate is dependent on govt_check_l3m\n"
     ]
    }
   ],
   "source": [
    "stat, p = pearsonr(data['storage_issue_reported_l3m'],data['product_wg_ton'])\n",
    "print('stat=%.2f, p=%.20f' %(stat,p))\n",
    "if p>0.05:\n",
    "    print('approved_wh_govt_certificate is independent from govt_check_l3m')\n",
    "else:\n",
    "    print('approved_wh_govt_certificate is dependent on govt_check_l3m')"
   ]
  },
  {
   "cell_type": "code",
   "execution_count": 60,
   "id": "f5ef55e7",
   "metadata": {},
   "outputs": [],
   "source": [
    "data['wh_owner_type']=le.fit_transform(data['wh_owner_type'])"
   ]
  },
  {
   "cell_type": "code",
   "execution_count": 61,
   "id": "50adb2a6",
   "metadata": {},
   "outputs": [
    {
     "name": "stdout",
     "output_type": "stream",
     "text": [
      "stat=0.00, p=0.61158875450739658142\n",
      "approved_wh_govt_certificate is independent from govt_check_l3m\n"
     ]
    }
   ],
   "source": [
    "stat, p = pearsonr(data['wh_owner_type'],data['product_wg_ton'])\n",
    "print('stat=%.2f, p=%.20f' %(stat,p))\n",
    "if p>0.05:\n",
    "    print('approved_wh_govt_certificate is independent from govt_check_l3m')\n",
    "else:\n",
    "    print('approved_wh_govt_certificate is dependent on govt_check_l3m')"
   ]
  },
  {
   "cell_type": "code",
   "execution_count": 62,
   "id": "00bb2518",
   "metadata": {},
   "outputs": [
    {
     "ename": "ValueError",
     "evalue": "array must not contain infs or NaNs",
     "output_type": "error",
     "traceback": [
      "\u001b[1;31m---------------------------------------------------------------------------\u001b[0m",
      "\u001b[1;31mValueError\u001b[0m                                Traceback (most recent call last)",
      "Input \u001b[1;32mIn [62]\u001b[0m, in \u001b[0;36m<cell line: 1>\u001b[1;34m()\u001b[0m\n\u001b[1;32m----> 1\u001b[0m stat, p \u001b[38;5;241m=\u001b[39m \u001b[43mpearsonr\u001b[49m\u001b[43m(\u001b[49m\u001b[43mdata\u001b[49m\u001b[43m[\u001b[49m\u001b[38;5;124;43m'\u001b[39;49m\u001b[38;5;124;43mwh_est_year\u001b[39;49m\u001b[38;5;124;43m'\u001b[39;49m\u001b[43m]\u001b[49m\u001b[43m,\u001b[49m\u001b[43mdata\u001b[49m\u001b[43m[\u001b[49m\u001b[38;5;124;43m'\u001b[39;49m\u001b[38;5;124;43mproduct_wg_ton\u001b[39;49m\u001b[38;5;124;43m'\u001b[39;49m\u001b[43m]\u001b[49m\u001b[43m)\u001b[49m\n\u001b[0;32m      2\u001b[0m \u001b[38;5;28mprint\u001b[39m(\u001b[38;5;124m'\u001b[39m\u001b[38;5;124mstat=\u001b[39m\u001b[38;5;132;01m%.2f\u001b[39;00m\u001b[38;5;124m, p=\u001b[39m\u001b[38;5;132;01m%.20f\u001b[39;00m\u001b[38;5;124m'\u001b[39m \u001b[38;5;241m%\u001b[39m(stat,p))\n\u001b[0;32m      3\u001b[0m \u001b[38;5;28;01mif\u001b[39;00m p\u001b[38;5;241m>\u001b[39m\u001b[38;5;241m0.05\u001b[39m:\n",
      "File \u001b[1;32m~\\anaconda3\\lib\\site-packages\\scipy\\stats\\stats.py:4045\u001b[0m, in \u001b[0;36mpearsonr\u001b[1;34m(x, y)\u001b[0m\n\u001b[0;32m   4040\u001b[0m ym \u001b[38;5;241m=\u001b[39m y\u001b[38;5;241m.\u001b[39mastype(dtype) \u001b[38;5;241m-\u001b[39m ymean\n\u001b[0;32m   4042\u001b[0m \u001b[38;5;66;03m# Unlike np.linalg.norm or the expression sqrt((xm*xm).sum()),\u001b[39;00m\n\u001b[0;32m   4043\u001b[0m \u001b[38;5;66;03m# scipy.linalg.norm(xm) does not overflow if xm is, for example,\u001b[39;00m\n\u001b[0;32m   4044\u001b[0m \u001b[38;5;66;03m# [-5e210, 5e210, 3e200, -3e200]\u001b[39;00m\n\u001b[1;32m-> 4045\u001b[0m normxm \u001b[38;5;241m=\u001b[39m \u001b[43mlinalg\u001b[49m\u001b[38;5;241;43m.\u001b[39;49m\u001b[43mnorm\u001b[49m\u001b[43m(\u001b[49m\u001b[43mxm\u001b[49m\u001b[43m)\u001b[49m\n\u001b[0;32m   4046\u001b[0m normym \u001b[38;5;241m=\u001b[39m linalg\u001b[38;5;241m.\u001b[39mnorm(ym)\n\u001b[0;32m   4048\u001b[0m threshold \u001b[38;5;241m=\u001b[39m \u001b[38;5;241m1e-13\u001b[39m\n",
      "File \u001b[1;32m~\\anaconda3\\lib\\site-packages\\scipy\\linalg\\misc.py:145\u001b[0m, in \u001b[0;36mnorm\u001b[1;34m(a, ord, axis, keepdims, check_finite)\u001b[0m\n\u001b[0;32m    143\u001b[0m \u001b[38;5;66;03m# Differs from numpy only in non-finite handling and the use of blas.\u001b[39;00m\n\u001b[0;32m    144\u001b[0m \u001b[38;5;28;01mif\u001b[39;00m check_finite:\n\u001b[1;32m--> 145\u001b[0m     a \u001b[38;5;241m=\u001b[39m \u001b[43mnp\u001b[49m\u001b[38;5;241;43m.\u001b[39;49m\u001b[43masarray_chkfinite\u001b[49m\u001b[43m(\u001b[49m\u001b[43ma\u001b[49m\u001b[43m)\u001b[49m\n\u001b[0;32m    146\u001b[0m \u001b[38;5;28;01melse\u001b[39;00m:\n\u001b[0;32m    147\u001b[0m     a \u001b[38;5;241m=\u001b[39m np\u001b[38;5;241m.\u001b[39masarray(a)\n",
      "File \u001b[1;32m~\\anaconda3\\lib\\site-packages\\numpy\\lib\\function_base.py:488\u001b[0m, in \u001b[0;36masarray_chkfinite\u001b[1;34m(a, dtype, order)\u001b[0m\n\u001b[0;32m    486\u001b[0m a \u001b[38;5;241m=\u001b[39m asarray(a, dtype\u001b[38;5;241m=\u001b[39mdtype, order\u001b[38;5;241m=\u001b[39morder)\n\u001b[0;32m    487\u001b[0m \u001b[38;5;28;01mif\u001b[39;00m a\u001b[38;5;241m.\u001b[39mdtype\u001b[38;5;241m.\u001b[39mchar \u001b[38;5;129;01min\u001b[39;00m typecodes[\u001b[38;5;124m'\u001b[39m\u001b[38;5;124mAllFloat\u001b[39m\u001b[38;5;124m'\u001b[39m] \u001b[38;5;129;01mand\u001b[39;00m \u001b[38;5;129;01mnot\u001b[39;00m np\u001b[38;5;241m.\u001b[39misfinite(a)\u001b[38;5;241m.\u001b[39mall():\n\u001b[1;32m--> 488\u001b[0m     \u001b[38;5;28;01mraise\u001b[39;00m \u001b[38;5;167;01mValueError\u001b[39;00m(\n\u001b[0;32m    489\u001b[0m         \u001b[38;5;124m\"\u001b[39m\u001b[38;5;124marray must not contain infs or NaNs\u001b[39m\u001b[38;5;124m\"\u001b[39m)\n\u001b[0;32m    490\u001b[0m \u001b[38;5;28;01mreturn\u001b[39;00m a\n",
      "\u001b[1;31mValueError\u001b[0m: array must not contain infs or NaNs"
     ]
    }
   ],
   "source": [
    "stat, p = pearsonr(data['wh_est_year'],data['product_wg_ton'])\n",
    "print('stat=%.2f, p=%.20f' %(stat,p))\n",
    "if p>0.05:\n",
    "    print('approved_wh_govt_certificate is independent from govt_check_l3m')\n",
    "else:\n",
    "    print('approved_wh_govt_certificate is dependent on govt_check_l3m')"
   ]
  },
  {
   "cell_type": "code",
   "execution_count": 63,
   "id": "e11c83ba",
   "metadata": {},
   "outputs": [],
   "source": [
    "data_2 = data.dropna"
   ]
  },
  {
   "cell_type": "code",
   "execution_count": 64,
   "id": "e1fd4c27",
   "metadata": {},
   "outputs": [
    {
     "ename": "TypeError",
     "evalue": "'method' object is not subscriptable",
     "output_type": "error",
     "traceback": [
      "\u001b[1;31m---------------------------------------------------------------------------\u001b[0m",
      "\u001b[1;31mTypeError\u001b[0m                                 Traceback (most recent call last)",
      "Input \u001b[1;32mIn [64]\u001b[0m, in \u001b[0;36m<cell line: 1>\u001b[1;34m()\u001b[0m\n\u001b[1;32m----> 1\u001b[0m stat, p \u001b[38;5;241m=\u001b[39m pearsonr(\u001b[43mdata_2\u001b[49m\u001b[43m[\u001b[49m\u001b[38;5;124;43m'\u001b[39;49m\u001b[38;5;124;43mwh_est_year\u001b[39;49m\u001b[38;5;124;43m'\u001b[39;49m\u001b[43m]\u001b[49m,data_2[\u001b[38;5;124m'\u001b[39m\u001b[38;5;124mproduct_wg_ton\u001b[39m\u001b[38;5;124m'\u001b[39m])\n\u001b[0;32m      2\u001b[0m \u001b[38;5;28mprint\u001b[39m(\u001b[38;5;124m'\u001b[39m\u001b[38;5;124mstat=\u001b[39m\u001b[38;5;132;01m%.2f\u001b[39;00m\u001b[38;5;124m, p=\u001b[39m\u001b[38;5;132;01m%.20f\u001b[39;00m\u001b[38;5;124m'\u001b[39m \u001b[38;5;241m%\u001b[39m(stat,p))\n\u001b[0;32m      3\u001b[0m \u001b[38;5;28;01mif\u001b[39;00m p\u001b[38;5;241m>\u001b[39m\u001b[38;5;241m0.05\u001b[39m:\n",
      "\u001b[1;31mTypeError\u001b[0m: 'method' object is not subscriptable"
     ]
    }
   ],
   "source": [
    "stat, p = pearsonr(data_2['wh_est_year'],data_2['product_wg_ton'])\n",
    "print('stat=%.2f, p=%.20f' %(stat,p))\n",
    "if p>0.05:\n",
    "    print('approved_wh_govt_certificate is independent from govt_check_l3m')\n",
    "else:\n",
    "    print('approved_wh_govt_certificate is dependent on govt_check_l3m')"
   ]
  },
  {
   "cell_type": "code",
   "execution_count": 65,
   "id": "284eb0e0",
   "metadata": {},
   "outputs": [
    {
     "ename": "ValueError",
     "evalue": "array must not contain infs or NaNs",
     "output_type": "error",
     "traceback": [
      "\u001b[1;31m---------------------------------------------------------------------------\u001b[0m",
      "\u001b[1;31mValueError\u001b[0m                                Traceback (most recent call last)",
      "Input \u001b[1;32mIn [65]\u001b[0m, in \u001b[0;36m<cell line: 1>\u001b[1;34m()\u001b[0m\n\u001b[1;32m----> 1\u001b[0m stat, p \u001b[38;5;241m=\u001b[39m \u001b[43mpearsonr\u001b[49m\u001b[43m(\u001b[49m\u001b[43mdata\u001b[49m\u001b[43m[\u001b[49m\u001b[38;5;124;43m'\u001b[39;49m\u001b[38;5;124;43mworkers_num\u001b[39;49m\u001b[38;5;124;43m'\u001b[39;49m\u001b[43m]\u001b[49m\u001b[43m,\u001b[49m\u001b[43mdata\u001b[49m\u001b[43m[\u001b[49m\u001b[38;5;124;43m'\u001b[39;49m\u001b[38;5;124;43mproduct_wg_ton\u001b[39;49m\u001b[38;5;124;43m'\u001b[39;49m\u001b[43m]\u001b[49m\u001b[43m)\u001b[49m\n\u001b[0;32m      2\u001b[0m \u001b[38;5;28mprint\u001b[39m(\u001b[38;5;124m'\u001b[39m\u001b[38;5;124mstat=\u001b[39m\u001b[38;5;132;01m%.2f\u001b[39;00m\u001b[38;5;124m, p=\u001b[39m\u001b[38;5;132;01m%.20f\u001b[39;00m\u001b[38;5;124m'\u001b[39m \u001b[38;5;241m%\u001b[39m(stat,p))\n\u001b[0;32m      3\u001b[0m \u001b[38;5;28;01mif\u001b[39;00m p\u001b[38;5;241m>\u001b[39m\u001b[38;5;241m0.05\u001b[39m:\n",
      "File \u001b[1;32m~\\anaconda3\\lib\\site-packages\\scipy\\stats\\stats.py:4045\u001b[0m, in \u001b[0;36mpearsonr\u001b[1;34m(x, y)\u001b[0m\n\u001b[0;32m   4040\u001b[0m ym \u001b[38;5;241m=\u001b[39m y\u001b[38;5;241m.\u001b[39mastype(dtype) \u001b[38;5;241m-\u001b[39m ymean\n\u001b[0;32m   4042\u001b[0m \u001b[38;5;66;03m# Unlike np.linalg.norm or the expression sqrt((xm*xm).sum()),\u001b[39;00m\n\u001b[0;32m   4043\u001b[0m \u001b[38;5;66;03m# scipy.linalg.norm(xm) does not overflow if xm is, for example,\u001b[39;00m\n\u001b[0;32m   4044\u001b[0m \u001b[38;5;66;03m# [-5e210, 5e210, 3e200, -3e200]\u001b[39;00m\n\u001b[1;32m-> 4045\u001b[0m normxm \u001b[38;5;241m=\u001b[39m \u001b[43mlinalg\u001b[49m\u001b[38;5;241;43m.\u001b[39;49m\u001b[43mnorm\u001b[49m\u001b[43m(\u001b[49m\u001b[43mxm\u001b[49m\u001b[43m)\u001b[49m\n\u001b[0;32m   4046\u001b[0m normym \u001b[38;5;241m=\u001b[39m linalg\u001b[38;5;241m.\u001b[39mnorm(ym)\n\u001b[0;32m   4048\u001b[0m threshold \u001b[38;5;241m=\u001b[39m \u001b[38;5;241m1e-13\u001b[39m\n",
      "File \u001b[1;32m~\\anaconda3\\lib\\site-packages\\scipy\\linalg\\misc.py:145\u001b[0m, in \u001b[0;36mnorm\u001b[1;34m(a, ord, axis, keepdims, check_finite)\u001b[0m\n\u001b[0;32m    143\u001b[0m \u001b[38;5;66;03m# Differs from numpy only in non-finite handling and the use of blas.\u001b[39;00m\n\u001b[0;32m    144\u001b[0m \u001b[38;5;28;01mif\u001b[39;00m check_finite:\n\u001b[1;32m--> 145\u001b[0m     a \u001b[38;5;241m=\u001b[39m \u001b[43mnp\u001b[49m\u001b[38;5;241;43m.\u001b[39;49m\u001b[43masarray_chkfinite\u001b[49m\u001b[43m(\u001b[49m\u001b[43ma\u001b[49m\u001b[43m)\u001b[49m\n\u001b[0;32m    146\u001b[0m \u001b[38;5;28;01melse\u001b[39;00m:\n\u001b[0;32m    147\u001b[0m     a \u001b[38;5;241m=\u001b[39m np\u001b[38;5;241m.\u001b[39masarray(a)\n",
      "File \u001b[1;32m~\\anaconda3\\lib\\site-packages\\numpy\\lib\\function_base.py:488\u001b[0m, in \u001b[0;36masarray_chkfinite\u001b[1;34m(a, dtype, order)\u001b[0m\n\u001b[0;32m    486\u001b[0m a \u001b[38;5;241m=\u001b[39m asarray(a, dtype\u001b[38;5;241m=\u001b[39mdtype, order\u001b[38;5;241m=\u001b[39morder)\n\u001b[0;32m    487\u001b[0m \u001b[38;5;28;01mif\u001b[39;00m a\u001b[38;5;241m.\u001b[39mdtype\u001b[38;5;241m.\u001b[39mchar \u001b[38;5;129;01min\u001b[39;00m typecodes[\u001b[38;5;124m'\u001b[39m\u001b[38;5;124mAllFloat\u001b[39m\u001b[38;5;124m'\u001b[39m] \u001b[38;5;129;01mand\u001b[39;00m \u001b[38;5;129;01mnot\u001b[39;00m np\u001b[38;5;241m.\u001b[39misfinite(a)\u001b[38;5;241m.\u001b[39mall():\n\u001b[1;32m--> 488\u001b[0m     \u001b[38;5;28;01mraise\u001b[39;00m \u001b[38;5;167;01mValueError\u001b[39;00m(\n\u001b[0;32m    489\u001b[0m         \u001b[38;5;124m\"\u001b[39m\u001b[38;5;124marray must not contain infs or NaNs\u001b[39m\u001b[38;5;124m\"\u001b[39m)\n\u001b[0;32m    490\u001b[0m \u001b[38;5;28;01mreturn\u001b[39;00m a\n",
      "\u001b[1;31mValueError\u001b[0m: array must not contain infs or NaNs"
     ]
    }
   ],
   "source": [
    "stat, p = pearsonr(data['workers_num'],data['product_wg_ton'])\n",
    "print('stat=%.2f, p=%.20f' %(stat,p))\n",
    "if p>0.05:\n",
    "    print('approved_wh_govt_certificate is independent from govt_check_l3m')\n",
    "else:\n",
    "    print('approved_wh_govt_certificate is dependent on govt_check_l3m')"
   ]
  },
  {
   "cell_type": "code",
   "execution_count": null,
   "id": "393a8d06",
   "metadata": {},
   "outputs": [],
   "source": []
  }
 ],
 "metadata": {
  "kernelspec": {
   "display_name": "Python 3 (ipykernel)",
   "language": "python",
   "name": "python3"
  },
  "language_info": {
   "codemirror_mode": {
    "name": "ipython",
    "version": 3
   },
   "file_extension": ".py",
   "mimetype": "text/x-python",
   "name": "python",
   "nbconvert_exporter": "python",
   "pygments_lexer": "ipython3",
   "version": "3.9.12"
  },
  "varInspector": {
   "cols": {
    "lenName": 16,
    "lenType": 16,
    "lenVar": 40
   },
   "kernels_config": {
    "python": {
     "delete_cmd_postfix": "",
     "delete_cmd_prefix": "del ",
     "library": "var_list.py",
     "varRefreshCmd": "print(var_dic_list())"
    },
    "r": {
     "delete_cmd_postfix": ") ",
     "delete_cmd_prefix": "rm(",
     "library": "var_list.r",
     "varRefreshCmd": "cat(var_dic_list()) "
    }
   },
   "types_to_exclude": [
    "module",
    "function",
    "builtin_function_or_method",
    "instance",
    "_Feature"
   ],
   "window_display": false
  }
 },
 "nbformat": 4,
 "nbformat_minor": 5
}
